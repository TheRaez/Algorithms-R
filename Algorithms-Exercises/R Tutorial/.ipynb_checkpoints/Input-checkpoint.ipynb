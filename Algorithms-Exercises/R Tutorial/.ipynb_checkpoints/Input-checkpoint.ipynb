{
 "cells": [
  {
   "cell_type": "markdown",
   "metadata": {},
   "source": [
    "## This tutorial is found on page \"http://www.cyclismo.org/tutorial/R/input.html\""
   ]
  },
  {
   "cell_type": "markdown",
   "metadata": {},
   "source": [
    "# 1.1 Assignment"
   ]
  },
  {
   "cell_type": "code",
   "execution_count": 4,
   "metadata": {},
   "outputs": [
    {
     "data": {
      "text/html": [
       "<ol class=list-inline>\n",
       "\t<li>3</li>\n",
       "\t<li>5</li>\n",
       "\t<li>7</li>\n",
       "\t<li>9</li>\n",
       "</ol>\n"
      ],
      "text/latex": [
       "\\begin{enumerate*}\n",
       "\\item 3\n",
       "\\item 5\n",
       "\\item 7\n",
       "\\item 9\n",
       "\\end{enumerate*}\n"
      ],
      "text/markdown": [
       "1. 3\n",
       "2. 5\n",
       "3. 7\n",
       "4. 9\n",
       "\n",
       "\n"
      ],
      "text/plain": [
       "[1] 3 5 7 9"
      ]
     },
     "metadata": {},
     "output_type": "display_data"
    }
   ],
   "source": [
    "bubba <- c(3,5,7,9)\n",
    "bubba"
   ]
  },
  {
   "cell_type": "code",
   "execution_count": 7,
   "metadata": {},
   "outputs": [
    {
     "data": {
      "text/html": [
       "3"
      ],
      "text/latex": [
       "3"
      ],
      "text/markdown": [
       "3"
      ],
      "text/plain": [
       "[1] 3"
      ]
     },
     "metadata": {},
     "output_type": "display_data"
    },
    {
     "data": {
      "text/html": [
       "5"
      ],
      "text/latex": [
       "5"
      ],
      "text/markdown": [
       "5"
      ],
      "text/plain": [
       "[1] 5"
      ]
     },
     "metadata": {},
     "output_type": "display_data"
    },
    {
     "data": {
      "text/html": [
       "7"
      ],
      "text/latex": [
       "7"
      ],
      "text/markdown": [
       "7"
      ],
      "text/plain": [
       "[1] 7"
      ]
     },
     "metadata": {},
     "output_type": "display_data"
    },
    {
     "data": {
      "text/html": [
       "9"
      ],
      "text/latex": [
       "9"
      ],
      "text/markdown": [
       "9"
      ],
      "text/plain": [
       "[1] 9"
      ]
     },
     "metadata": {},
     "output_type": "display_data"
    }
   ],
   "source": [
    "bubba[1]\n",
    "bubba[2]\n",
    "bubba[3]\n",
    "bubba[4]"
   ]
  },
  {
   "cell_type": "code",
   "execution_count": 26,
   "metadata": {},
   "outputs": [
    {
     "data": {
      "text/html": [],
      "text/latex": [],
      "text/markdown": [],
      "text/plain": [
       "numeric(0)"
      ]
     },
     "metadata": {},
     "output_type": "display_data"
    },
    {
     "data": {
      "text/html": [
       "&lt;NA&gt;"
      ],
      "text/latex": [
       "<NA>"
      ],
      "text/markdown": [
       "&lt;NA&gt;"
      ],
      "text/plain": [
       "[1] NA"
      ]
     },
     "metadata": {},
     "output_type": "display_data"
    }
   ],
   "source": [
    "bubba[0]\n",
    "bubba[10]"
   ]
  },
  {
   "cell_type": "markdown",
   "metadata": {},
   "source": [
    "# 1.2 Reading CSV"
   ]
  },
  {
   "cell_type": "code",
   "execution_count": 10,
   "metadata": {},
   "outputs": [
    {
     "data": {
      "text/html": [
       "<table>\n",
       "<thead><tr><th scope=col>trial</th><th scope=col>mass</th><th scope=col>velocity</th></tr></thead>\n",
       "<tbody>\n",
       "\t<tr><td>A   </td><td>10.0</td><td>12  </td></tr>\n",
       "\t<tr><td>A   </td><td>11.0</td><td>14  </td></tr>\n",
       "\t<tr><td>B   </td><td> 5.0</td><td> 8  </td></tr>\n",
       "\t<tr><td>B   </td><td> 6.0</td><td>10  </td></tr>\n",
       "\t<tr><td>A   </td><td>10.5</td><td>13  </td></tr>\n",
       "\t<tr><td>B   </td><td> 7.0</td><td>11  </td></tr>\n",
       "</tbody>\n",
       "</table>\n"
      ],
      "text/latex": [
       "\\begin{tabular}{r|lll}\n",
       " trial & mass & velocity\\\\\n",
       "\\hline\n",
       "\t A    & 10.0 & 12  \\\\\n",
       "\t A    & 11.0 & 14  \\\\\n",
       "\t B    &  5.0 &  8  \\\\\n",
       "\t B    &  6.0 & 10  \\\\\n",
       "\t A    & 10.5 & 13  \\\\\n",
       "\t B    &  7.0 & 11  \\\\\n",
       "\\end{tabular}\n"
      ],
      "text/markdown": [
       "\n",
       "trial | mass | velocity | \n",
       "|---|---|---|---|---|---|\n",
       "| A    | 10.0 | 12   | \n",
       "| A    | 11.0 | 14   | \n",
       "| B    |  5.0 |  8   | \n",
       "| B    |  6.0 | 10   | \n",
       "| A    | 10.5 | 13   | \n",
       "| B    |  7.0 | 11   | \n",
       "\n",
       "\n"
      ],
      "text/plain": [
       "  trial mass velocity\n",
       "1 A     10.0 12      \n",
       "2 A     11.0 14      \n",
       "3 B      5.0  8      \n",
       "4 B      6.0 10      \n",
       "5 A     10.5 13      \n",
       "6 B      7.0 11      "
      ]
     },
     "metadata": {},
     "output_type": "display_data"
    }
   ],
   "source": [
    "heisenberg <- read.csv(file='simple.csv', head=TRUE, sep=\",\")\n",
    "heisenberg"
   ]
  },
  {
   "cell_type": "code",
   "execution_count": 11,
   "metadata": {},
   "outputs": [
    {
     "data": {
      "text/plain": [
       " trial      mass          velocity    \n",
       " A:3   Min.   : 5.00   Min.   : 8.00  \n",
       " B:3   1st Qu.: 6.25   1st Qu.:10.25  \n",
       "       Median : 8.50   Median :11.50  \n",
       "       Mean   : 8.25   Mean   :11.33  \n",
       "       3rd Qu.:10.38   3rd Qu.:12.75  \n",
       "       Max.   :11.00   Max.   :14.00  "
      ]
     },
     "metadata": {},
     "output_type": "display_data"
    }
   ],
   "source": [
    "summary(heisenberg)"
   ]
  },
  {
   "cell_type": "code",
   "execution_count": 12,
   "metadata": {
    "collapsed": true
   },
   "outputs": [],
   "source": [
    "help(read.csv)"
   ]
  },
  {
   "cell_type": "code",
   "execution_count": 14,
   "metadata": {},
   "outputs": [
    {
     "data": {
      "text/html": [
       "<ol class=list-inline>\n",
       "\t<li>'Input.ipynb'</li>\n",
       "\t<li>'simple.csv'</li>\n",
       "</ol>\n"
      ],
      "text/latex": [
       "\\begin{enumerate*}\n",
       "\\item 'Input.ipynb'\n",
       "\\item 'simple.csv'\n",
       "\\end{enumerate*}\n"
      ],
      "text/markdown": [
       "1. 'Input.ipynb'\n",
       "2. 'simple.csv'\n",
       "\n",
       "\n"
      ],
      "text/plain": [
       "[1] \"Input.ipynb\" \"simple.csv\" "
      ]
     },
     "metadata": {},
     "output_type": "display_data"
    },
    {
     "data": {
      "text/html": [
       "'C:/Users/pablo/Algorithms-Exercises/R Tutorial'"
      ],
      "text/latex": [
       "'C:/Users/pablo/Algorithms-Exercises/R Tutorial'"
      ],
      "text/markdown": [
       "'C:/Users/pablo/Algorithms-Exercises/R Tutorial'"
      ],
      "text/plain": [
       "[1] \"C:/Users/pablo/Algorithms-Exercises/R Tutorial\""
      ]
     },
     "metadata": {},
     "output_type": "display_data"
    }
   ],
   "source": [
    "dir()\n",
    "getwd()"
   ]
  },
  {
   "cell_type": "code",
   "execution_count": 16,
   "metadata": {},
   "outputs": [
    {
     "data": {
      "text/html": [
       "<ol class=list-inline>\n",
       "\t<li>A</li>\n",
       "\t<li>A</li>\n",
       "\t<li>B</li>\n",
       "\t<li>B</li>\n",
       "\t<li>A</li>\n",
       "\t<li>B</li>\n",
       "</ol>\n"
      ],
      "text/latex": [
       "\\begin{enumerate*}\n",
       "\\item A\n",
       "\\item A\n",
       "\\item B\n",
       "\\item B\n",
       "\\item A\n",
       "\\item B\n",
       "\\end{enumerate*}\n"
      ],
      "text/markdown": [
       "1. A\n",
       "2. A\n",
       "3. B\n",
       "4. B\n",
       "5. A\n",
       "6. B\n",
       "\n",
       "\n"
      ],
      "text/plain": [
       "[1] A A B B A B\n",
       "Levels: A B"
      ]
     },
     "metadata": {},
     "output_type": "display_data"
    },
    {
     "data": {
      "text/html": [
       "<ol class=list-inline>\n",
       "\t<li>10</li>\n",
       "\t<li>11</li>\n",
       "\t<li>5</li>\n",
       "\t<li>6</li>\n",
       "\t<li>10.5</li>\n",
       "\t<li>7</li>\n",
       "</ol>\n"
      ],
      "text/latex": [
       "\\begin{enumerate*}\n",
       "\\item 10\n",
       "\\item 11\n",
       "\\item 5\n",
       "\\item 6\n",
       "\\item 10.5\n",
       "\\item 7\n",
       "\\end{enumerate*}\n"
      ],
      "text/markdown": [
       "1. 10\n",
       "2. 11\n",
       "3. 5\n",
       "4. 6\n",
       "5. 10.5\n",
       "6. 7\n",
       "\n",
       "\n"
      ],
      "text/plain": [
       "[1] 10.0 11.0  5.0  6.0 10.5  7.0"
      ]
     },
     "metadata": {},
     "output_type": "display_data"
    },
    {
     "data": {
      "text/html": [
       "<ol class=list-inline>\n",
       "\t<li>12</li>\n",
       "\t<li>14</li>\n",
       "\t<li>8</li>\n",
       "\t<li>10</li>\n",
       "\t<li>13</li>\n",
       "\t<li>11</li>\n",
       "</ol>\n"
      ],
      "text/latex": [
       "\\begin{enumerate*}\n",
       "\\item 12\n",
       "\\item 14\n",
       "\\item 8\n",
       "\\item 10\n",
       "\\item 13\n",
       "\\item 11\n",
       "\\end{enumerate*}\n"
      ],
      "text/markdown": [
       "1. 12\n",
       "2. 14\n",
       "3. 8\n",
       "4. 10\n",
       "5. 13\n",
       "6. 11\n",
       "\n",
       "\n"
      ],
      "text/plain": [
       "[1] 12 14  8 10 13 11"
      ]
     },
     "metadata": {},
     "output_type": "display_data"
    }
   ],
   "source": [
    "heisenberg$trial\n",
    "heisenberg$mass\n",
    "heisenberg$velocity"
   ]
  },
  {
   "cell_type": "code",
   "execution_count": 17,
   "metadata": {},
   "outputs": [
    {
     "data": {
      "text/html": [
       "<ol class=list-inline>\n",
       "\t<li>'trial'</li>\n",
       "\t<li>'mass'</li>\n",
       "\t<li>'velocity'</li>\n",
       "</ol>\n"
      ],
      "text/latex": [
       "\\begin{enumerate*}\n",
       "\\item 'trial'\n",
       "\\item 'mass'\n",
       "\\item 'velocity'\n",
       "\\end{enumerate*}\n"
      ],
      "text/markdown": [
       "1. 'trial'\n",
       "2. 'mass'\n",
       "3. 'velocity'\n",
       "\n",
       "\n"
      ],
      "text/plain": [
       "[1] \"trial\"    \"mass\"     \"velocity\""
      ]
     },
     "metadata": {},
     "output_type": "display_data"
    }
   ],
   "source": [
    "names(heisenberg)"
   ]
  },
  {
   "cell_type": "code",
   "execution_count": 24,
   "metadata": {},
   "outputs": [
    {
     "data": {
      "text/html": [
       "<dl>\n",
       "\t<dt>$names</dt>\n",
       "\t\t<dd><ol class=list-inline>\n",
       "\t<li>'C'</li>\n",
       "\t<li>'N'</li>\n",
       "\t<li>'CHBR'</li>\n",
       "\t<li>'REP'</li>\n",
       "\t<li>'LFBM'</li>\n",
       "\t<li>'STBM'</li>\n",
       "\t<li>'RTBM'</li>\n",
       "\t<li>'LFNCC'</li>\n",
       "\t<li>'STNCC'</li>\n",
       "\t<li>'RTNCC'</li>\n",
       "\t<li>'LFBCC'</li>\n",
       "\t<li>'STBCC'</li>\n",
       "\t<li>'RTBCC'</li>\n",
       "\t<li>'LFCACC'</li>\n",
       "\t<li>'STCACC'</li>\n",
       "\t<li>'RTCACC'</li>\n",
       "\t<li>'LFKCC'</li>\n",
       "\t<li>'STKCC'</li>\n",
       "\t<li>'RTKCC'</li>\n",
       "\t<li>'LFMGCC'</li>\n",
       "\t<li>'STMGCC'</li>\n",
       "\t<li>'RTMGCC'</li>\n",
       "\t<li>'LFPCC'</li>\n",
       "\t<li>'STPCC'</li>\n",
       "\t<li>'RTPCC'</li>\n",
       "\t<li>'LFSCC'</li>\n",
       "\t<li>'STSCC'</li>\n",
       "\t<li>'RTSCC'</li>\n",
       "</ol>\n",
       "</dd>\n",
       "\t<dt>$class</dt>\n",
       "\t\t<dd>'data.frame'</dd>\n",
       "\t<dt>$row.names</dt>\n",
       "\t\t<dd><ol class=list-inline>\n",
       "\t<li>1</li>\n",
       "\t<li>2</li>\n",
       "\t<li>3</li>\n",
       "\t<li>4</li>\n",
       "\t<li>5</li>\n",
       "\t<li>6</li>\n",
       "\t<li>7</li>\n",
       "\t<li>8</li>\n",
       "\t<li>9</li>\n",
       "\t<li>10</li>\n",
       "\t<li>11</li>\n",
       "\t<li>12</li>\n",
       "\t<li>13</li>\n",
       "\t<li>14</li>\n",
       "\t<li>15</li>\n",
       "\t<li>16</li>\n",
       "\t<li>17</li>\n",
       "\t<li>18</li>\n",
       "\t<li>19</li>\n",
       "\t<li>20</li>\n",
       "\t<li>21</li>\n",
       "\t<li>22</li>\n",
       "\t<li>23</li>\n",
       "\t<li>24</li>\n",
       "\t<li>25</li>\n",
       "\t<li>26</li>\n",
       "\t<li>27</li>\n",
       "\t<li>28</li>\n",
       "\t<li>29</li>\n",
       "\t<li>30</li>\n",
       "\t<li>31</li>\n",
       "\t<li>32</li>\n",
       "\t<li>33</li>\n",
       "\t<li>34</li>\n",
       "\t<li>35</li>\n",
       "\t<li>36</li>\n",
       "\t<li>37</li>\n",
       "\t<li>38</li>\n",
       "\t<li>39</li>\n",
       "\t<li>40</li>\n",
       "\t<li>41</li>\n",
       "\t<li>42</li>\n",
       "\t<li>43</li>\n",
       "\t<li>44</li>\n",
       "\t<li>45</li>\n",
       "\t<li>46</li>\n",
       "\t<li>47</li>\n",
       "\t<li>48</li>\n",
       "\t<li>49</li>\n",
       "\t<li>50</li>\n",
       "\t<li>51</li>\n",
       "\t<li>52</li>\n",
       "\t<li>53</li>\n",
       "\t<li>54</li>\n",
       "</ol>\n",
       "</dd>\n",
       "</dl>\n"
      ],
      "text/latex": [
       "\\begin{description}\n",
       "\\item[\\$names] \\begin{enumerate*}\n",
       "\\item 'C'\n",
       "\\item 'N'\n",
       "\\item 'CHBR'\n",
       "\\item 'REP'\n",
       "\\item 'LFBM'\n",
       "\\item 'STBM'\n",
       "\\item 'RTBM'\n",
       "\\item 'LFNCC'\n",
       "\\item 'STNCC'\n",
       "\\item 'RTNCC'\n",
       "\\item 'LFBCC'\n",
       "\\item 'STBCC'\n",
       "\\item 'RTBCC'\n",
       "\\item 'LFCACC'\n",
       "\\item 'STCACC'\n",
       "\\item 'RTCACC'\n",
       "\\item 'LFKCC'\n",
       "\\item 'STKCC'\n",
       "\\item 'RTKCC'\n",
       "\\item 'LFMGCC'\n",
       "\\item 'STMGCC'\n",
       "\\item 'RTMGCC'\n",
       "\\item 'LFPCC'\n",
       "\\item 'STPCC'\n",
       "\\item 'RTPCC'\n",
       "\\item 'LFSCC'\n",
       "\\item 'STSCC'\n",
       "\\item 'RTSCC'\n",
       "\\end{enumerate*}\n",
       "\n",
       "\\item[\\$class] 'data.frame'\n",
       "\\item[\\$row.names] \\begin{enumerate*}\n",
       "\\item 1\n",
       "\\item 2\n",
       "\\item 3\n",
       "\\item 4\n",
       "\\item 5\n",
       "\\item 6\n",
       "\\item 7\n",
       "\\item 8\n",
       "\\item 9\n",
       "\\item 10\n",
       "\\item 11\n",
       "\\item 12\n",
       "\\item 13\n",
       "\\item 14\n",
       "\\item 15\n",
       "\\item 16\n",
       "\\item 17\n",
       "\\item 18\n",
       "\\item 19\n",
       "\\item 20\n",
       "\\item 21\n",
       "\\item 22\n",
       "\\item 23\n",
       "\\item 24\n",
       "\\item 25\n",
       "\\item 26\n",
       "\\item 27\n",
       "\\item 28\n",
       "\\item 29\n",
       "\\item 30\n",
       "\\item 31\n",
       "\\item 32\n",
       "\\item 33\n",
       "\\item 34\n",
       "\\item 35\n",
       "\\item 36\n",
       "\\item 37\n",
       "\\item 38\n",
       "\\item 39\n",
       "\\item 40\n",
       "\\item 41\n",
       "\\item 42\n",
       "\\item 43\n",
       "\\item 44\n",
       "\\item 45\n",
       "\\item 46\n",
       "\\item 47\n",
       "\\item 48\n",
       "\\item 49\n",
       "\\item 50\n",
       "\\item 51\n",
       "\\item 52\n",
       "\\item 53\n",
       "\\item 54\n",
       "\\end{enumerate*}\n",
       "\n",
       "\\end{description}\n"
      ],
      "text/markdown": [
       "$names\n",
       ":   1. 'C'\n",
       "2. 'N'\n",
       "3. 'CHBR'\n",
       "4. 'REP'\n",
       "5. 'LFBM'\n",
       "6. 'STBM'\n",
       "7. 'RTBM'\n",
       "8. 'LFNCC'\n",
       "9. 'STNCC'\n",
       "10. 'RTNCC'\n",
       "11. 'LFBCC'\n",
       "12. 'STBCC'\n",
       "13. 'RTBCC'\n",
       "14. 'LFCACC'\n",
       "15. 'STCACC'\n",
       "16. 'RTCACC'\n",
       "17. 'LFKCC'\n",
       "18. 'STKCC'\n",
       "19. 'RTKCC'\n",
       "20. 'LFMGCC'\n",
       "21. 'STMGCC'\n",
       "22. 'RTMGCC'\n",
       "23. 'LFPCC'\n",
       "24. 'STPCC'\n",
       "25. 'RTPCC'\n",
       "26. 'LFSCC'\n",
       "27. 'STSCC'\n",
       "28. 'RTSCC'\n",
       "\n",
       "\n",
       "\n",
       "$class\n",
       ":   'data.frame'\n",
       "$row.names\n",
       ":   1. 1\n",
       "2. 2\n",
       "3. 3\n",
       "4. 4\n",
       "5. 5\n",
       "6. 6\n",
       "7. 7\n",
       "8. 8\n",
       "9. 9\n",
       "10. 10\n",
       "11. 11\n",
       "12. 12\n",
       "13. 13\n",
       "14. 14\n",
       "15. 15\n",
       "16. 16\n",
       "17. 17\n",
       "18. 18\n",
       "19. 19\n",
       "20. 20\n",
       "21. 21\n",
       "22. 22\n",
       "23. 23\n",
       "24. 24\n",
       "25. 25\n",
       "26. 26\n",
       "27. 27\n",
       "28. 28\n",
       "29. 29\n",
       "30. 30\n",
       "31. 31\n",
       "32. 32\n",
       "33. 33\n",
       "34. 34\n",
       "35. 35\n",
       "36. 36\n",
       "37. 37\n",
       "38. 38\n",
       "39. 39\n",
       "40. 40\n",
       "41. 41\n",
       "42. 42\n",
       "43. 43\n",
       "44. 44\n",
       "45. 45\n",
       "46. 46\n",
       "47. 47\n",
       "48. 48\n",
       "49. 49\n",
       "50. 50\n",
       "51. 51\n",
       "52. 52\n",
       "53. 53\n",
       "54. 54\n",
       "\n",
       "\n",
       "\n",
       "\n",
       "\n"
      ],
      "text/plain": [
       "$names\n",
       " [1] \"C\"      \"N\"      \"CHBR\"   \"REP\"    \"LFBM\"   \"STBM\"   \"RTBM\"   \"LFNCC\" \n",
       " [9] \"STNCC\"  \"RTNCC\"  \"LFBCC\"  \"STBCC\"  \"RTBCC\"  \"LFCACC\" \"STCACC\" \"RTCACC\"\n",
       "[17] \"LFKCC\"  \"STKCC\"  \"RTKCC\"  \"LFMGCC\" \"STMGCC\" \"RTMGCC\" \"LFPCC\"  \"STPCC\" \n",
       "[25] \"RTPCC\"  \"LFSCC\"  \"STSCC\"  \"RTSCC\" \n",
       "\n",
       "$class\n",
       "[1] \"data.frame\"\n",
       "\n",
       "$row.names\n",
       " [1]  1  2  3  4  5  6  7  8  9 10 11 12 13 14 15 16 17 18 19 20 21 22 23 24 25\n",
       "[26] 26 27 28 29 30 31 32 33 34 35 36 37 38 39 40 41 42 43 44 45 46 47 48 49 50\n",
       "[51] 51 52 53 54\n"
      ]
     },
     "metadata": {},
     "output_type": "display_data"
    }
   ],
   "source": [
    "tree <- read.csv(file=\"trees91.csv\", header=TRUE, sep=\",\")\n",
    "attributes(tree)"
   ]
  },
  {
   "cell_type": "markdown",
   "metadata": {},
   "source": [
    "# 1.3 Brief Note on Fixed Width Files"
   ]
  },
  {
   "cell_type": "code",
   "execution_count": 25,
   "metadata": {
    "collapsed": true
   },
   "outputs": [],
   "source": [
    "help(read.fwf)"
   ]
  }
 ],
 "metadata": {
  "kernelspec": {
   "display_name": "R",
   "language": "R",
   "name": "ir"
  },
  "language_info": {
   "codemirror_mode": "r",
   "file_extension": ".r",
   "mimetype": "text/x-r-source",
   "name": "R",
   "pygments_lexer": "r",
   "version": "3.4.2"
  }
 },
 "nbformat": 4,
 "nbformat_minor": 2
}

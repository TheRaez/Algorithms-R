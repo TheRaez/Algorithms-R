{
 "cells": [
  {
   "cell_type": "markdown",
   "metadata": {},
   "source": [
    "# 10.1 Calculating a Single p Value From a Normal Distribution"
   ]
  },
  {
   "cell_type": "code",
   "execution_count": 2,
   "metadata": {},
   "outputs": [
    {
     "data": {
      "text/html": [
       "4.47213595499958"
      ],
      "text/latex": [
       "4.47213595499958"
      ],
      "text/markdown": [
       "4.47213595499958"
      ],
      "text/plain": [
       "[1] 4.472136"
      ]
     },
     "metadata": {},
     "output_type": "display_data"
    }
   ],
   "source": [
    "a <- 5\n",
    "s <- 2\n",
    "n <- 20\n",
    "xbar <- 7\n",
    "z <- (xbar-a)/(s/sqrt(n))\n",
    "z"
   ]
  },
  {
   "cell_type": "code",
   "execution_count": 5,
   "metadata": {},
   "outputs": [
    {
     "data": {
      "text/html": [
       "7.74421643104407e-06"
      ],
      "text/latex": [
       "7.74421643104407e-06"
      ],
      "text/markdown": [
       "7.74421643104407e-06"
      ],
      "text/plain": [
       "[1] 7.744216e-06"
      ]
     },
     "metadata": {},
     "output_type": "display_data"
    },
    {
     "data": {
      "text/html": [
       "7.74421643101597e-06"
      ],
      "text/latex": [
       "7.74421643101597e-06"
      ],
      "text/markdown": [
       "7.74421643101597e-06"
      ],
      "text/plain": [
       "[1] 7.744216e-06"
      ]
     },
     "metadata": {},
     "output_type": "display_data"
    }
   ],
   "source": [
    "2*pnorm(-abs(z))\n",
    "2*(1-pnorm(xbar,mean=a,sd=s/sqrt(20)))"
   ]
  },
  {
   "cell_type": "markdown",
   "metadata": {},
   "source": [
    "# 10.2 Calculating a Single p Value From a t Distribution"
   ]
  },
  {
   "cell_type": "code",
   "execution_count": 6,
   "metadata": {},
   "outputs": [
    {
     "data": {
      "text/html": [
       "4.47213595499958"
      ],
      "text/latex": [
       "4.47213595499958"
      ],
      "text/markdown": [
       "4.47213595499958"
      ],
      "text/plain": [
       "[1] 4.472136"
      ]
     },
     "metadata": {},
     "output_type": "display_data"
    }
   ],
   "source": [
    "a <- 5\n",
    "s <- 2\n",
    "n <- 20\n",
    "xbar <- 7\n",
    "t <- (xbar-a)/(s/sqrt(n))\n",
    "t"
   ]
  },
  {
   "cell_type": "code",
   "execution_count": 7,
   "metadata": {},
   "outputs": [
    {
     "data": {
      "text/html": [
       "0.000261193378340261"
      ],
      "text/latex": [
       "0.000261193378340261"
      ],
      "text/markdown": [
       "0.000261193378340261"
      ],
      "text/plain": [
       "[1] 0.0002611934"
      ]
     },
     "metadata": {},
     "output_type": "display_data"
    }
   ],
   "source": [
    "2*pt(-abs(t),df=n-1)"
   ]
  },
  {
   "cell_type": "code",
   "execution_count": 10,
   "metadata": {},
   "outputs": [
    {
     "data": {
      "text/plain": [
       "      vals      \n",
       " Min.   :0.130  \n",
       " 1st Qu.:0.480  \n",
       " Median :0.720  \n",
       " Mean   :0.765  \n",
       " 3rd Qu.:1.008  \n",
       " Max.   :1.760  "
      ]
     },
     "metadata": {},
     "output_type": "display_data"
    },
    {
     "data": {
      "text/html": [
       "54"
      ],
      "text/latex": [
       "54"
      ],
      "text/markdown": [
       "54"
      ],
      "text/plain": [
       "[1] 54"
      ]
     },
     "metadata": {},
     "output_type": "display_data"
    }
   ],
   "source": [
    "w1 <- read.csv(file=\"w1.dat\",sep=\",\",head=TRUE)\n",
    "summary(w1)\n",
    "length(w1$vals)"
   ]
  },
  {
   "cell_type": "code",
   "execution_count": 12,
   "metadata": {},
   "outputs": [
    {
     "data": {
      "text/html": [
       "1.26321721261151"
      ],
      "text/latex": [
       "1.26321721261151"
      ],
      "text/markdown": [
       "1.26321721261151"
      ],
      "text/plain": [
       "[1] 1.263217"
      ]
     },
     "metadata": {},
     "output_type": "display_data"
    }
   ],
   "source": [
    "t <- (mean(w1$vals)-0.7)/(sd(w1$vals)/sqrt(length(w1$vals)))\n",
    "t"
   ]
  },
  {
   "cell_type": "code",
   "execution_count": 14,
   "metadata": {},
   "outputs": [
    {
     "data": {
      "text/html": [
       "0.212040019065187"
      ],
      "text/latex": [
       "0.212040019065187"
      ],
      "text/markdown": [
       "0.212040019065187"
      ],
      "text/plain": [
       "[1] 0.21204"
      ]
     },
     "metadata": {},
     "output_type": "display_data"
    }
   ],
   "source": [
    "2*pt(-abs(t),df=length(w1$vals)-1)"
   ]
  },
  {
   "cell_type": "markdown",
   "metadata": {},
   "source": [
    "# 10.3 Calculating Many p Values From a t Distribution"
   ]
  },
  {
   "cell_type": "code",
   "execution_count": 15,
   "metadata": {
    "collapsed": true
   },
   "outputs": [],
   "source": [
    "m1 <- c(10,12,30)\n",
    "m2 <- c(10.5,13,28.5)\n",
    "sd1 <- c(3,4,4.5)\n",
    "sd2 <- c(2.5,5.3,3)\n",
    "num1 <- c(300,210,420)\n",
    "num2 <- c(230,340,400)\n",
    "se <- sqrt(sd1*sd1/num1+sd2*sd2/num2)\n",
    "t <- (m1-m2)/se"
   ]
  },
  {
   "cell_type": "code",
   "execution_count": 20,
   "metadata": {},
   "outputs": [
    {
     "data": {
      "text/html": [
       "<ol class=list-inline>\n",
       "\t<li>0.0188116798984694</li>\n",
       "\t<li>0.00642688972096208</li>\n",
       "\t<li>0.999999983940317</li>\n",
       "</ol>\n"
      ],
      "text/latex": [
       "\\begin{enumerate*}\n",
       "\\item 0.0188116798984694\n",
       "\\item 0.00642688972096208\n",
       "\\item 0.999999983940317\n",
       "\\end{enumerate*}\n"
      ],
      "text/markdown": [
       "1. 0.0188116798984694\n",
       "2. 0.00642688972096208\n",
       "3. 0.999999983940317\n",
       "\n",
       "\n"
      ],
      "text/plain": [
       "[1] 0.01881168 0.00642689 0.99999998"
      ]
     },
     "metadata": {},
     "output_type": "display_data"
    },
    {
     "data": {
      "text/html": [
       "<ol class=list-inline>\n",
       "\t<li>-2.09108191473804</li>\n",
       "\t<li>-2.50936388500978</li>\n",
       "\t<li>5.64076074817766</li>\n",
       "</ol>\n"
      ],
      "text/latex": [
       "\\begin{enumerate*}\n",
       "\\item -2.09108191473804\n",
       "\\item -2.50936388500978\n",
       "\\item 5.64076074817766\n",
       "\\end{enumerate*}\n"
      ],
      "text/markdown": [
       "1. -2.09108191473804\n",
       "2. -2.50936388500978\n",
       "3. 5.64076074817766\n",
       "\n",
       "\n"
      ],
      "text/plain": [
       "[1] -2.091082 -2.509364  5.640761"
      ]
     },
     "metadata": {},
     "output_type": "display_data"
    }
   ],
   "source": [
    "pt(t,df=pmin(num1,num2)-1)\n",
    "t"
   ]
  },
  {
   "cell_type": "code",
   "execution_count": 19,
   "metadata": {},
   "outputs": [
    {
     "data": {
      "text/html": [
       "<ol class=list-inline>\n",
       "\t<li>0.0188116798984694</li>\n",
       "\t<li>0.00642688972096208</li>\n",
       "\t<li>1.60596826392334e-08</li>\n",
       "</ol>\n"
      ],
      "text/latex": [
       "\\begin{enumerate*}\n",
       "\\item 0.0188116798984694\n",
       "\\item 0.00642688972096208\n",
       "\\item 1.60596826392334e-08\n",
       "\\end{enumerate*}\n"
      ],
      "text/markdown": [
       "1. 0.0188116798984694\n",
       "2. 0.00642688972096208\n",
       "3. 1.60596826392334e-08\n",
       "\n",
       "\n"
      ],
      "text/plain": [
       "[1] 1.881168e-02 6.426890e-03 1.605968e-08"
      ]
     },
     "metadata": {},
     "output_type": "display_data"
    }
   ],
   "source": [
    "pt(-abs(t),df=pmin(num1,num2)-1)"
   ]
  },
  {
   "cell_type": "markdown",
   "metadata": {},
   "source": [
    "# 10.4 The Easy Way"
   ]
  },
  {
   "cell_type": "code",
   "execution_count": 23,
   "metadata": {
    "collapsed": true
   },
   "outputs": [],
   "source": [
    "help(t.test)"
   ]
  },
  {
   "cell_type": "code",
   "execution_count": 24,
   "metadata": {},
   "outputs": [
    {
     "data": {
      "text/plain": [
       "\n",
       "\tOne Sample t-test\n",
       "\n",
       "data:  x\n",
       "t = 22.294, df = 4, p-value = 2.397e-05\n",
       "alternative hypothesis: true mean is not equal to 0\n",
       "95 percent confidence interval:\n",
       "  8.737095 11.222905\n",
       "sample estimates:\n",
       "mean of x \n",
       "     9.98 \n"
      ]
     },
     "metadata": {},
     "output_type": "display_data"
    }
   ],
   "source": [
    "x <- c(9.0,9.5,9.6,10.2,11.6)\n",
    "t.test(x)"
   ]
  },
  {
   "cell_type": "code",
   "execution_count": 27,
   "metadata": {},
   "outputs": [
    {
     "data": {
      "text/plain": [
       "\n",
       "\tOne Sample t-test\n",
       "\n",
       "data:  x\n",
       "t = -0.044677, df = 4, p-value = 0.9665\n",
       "alternative hypothesis: true mean is not equal to 10\n",
       "95 percent confidence interval:\n",
       "  8.737095 11.222905\n",
       "sample estimates:\n",
       "mean of x \n",
       "     9.98 \n"
      ]
     },
     "metadata": {},
     "output_type": "display_data"
    }
   ],
   "source": [
    "t.test(x,mu=10)"
   ]
  },
  {
   "cell_type": "code",
   "execution_count": 28,
   "metadata": {},
   "outputs": [
    {
     "data": {
      "text/plain": [
       "\n",
       "\tOne Sample t-test\n",
       "\n",
       "data:  x\n",
       "t = -0.044677, df = 4, p-value = 0.4833\n",
       "alternative hypothesis: true mean is less than 10\n",
       "95 percent confidence interval:\n",
       "     -Inf 10.93434\n",
       "sample estimates:\n",
       "mean of x \n",
       "     9.98 \n"
      ]
     },
     "metadata": {},
     "output_type": "display_data"
    }
   ],
   "source": [
    "t.test(x,mu=10,alternative=\"less\")"
   ]
  },
  {
   "cell_type": "code",
   "execution_count": 29,
   "metadata": {},
   "outputs": [
    {
     "data": {
      "text/plain": [
       "\n",
       "\tWelch Two Sample t-test\n",
       "\n",
       "data:  x and y\n",
       "t = 1.1891, df = 6.78, p-value = 0.2744\n",
       "alternative hypothesis: true difference in means is not equal to 0\n",
       "95 percent confidence interval:\n",
       " -0.6185513  1.8535513\n",
       "sample estimates:\n",
       "mean of x mean of y \n",
       "   9.9800    9.3625 \n"
      ]
     },
     "metadata": {},
     "output_type": "display_data"
    }
   ],
   "source": [
    "x <- c(9.0,9.5,9.6,10.2,11.6)\n",
    "y <- c(9.9,8.7,9.8,10.5,8.9,8.3,9.8,9.0)\n",
    "t.test(x,y)"
   ]
  }
 ],
 "metadata": {
  "kernelspec": {
   "display_name": "R",
   "language": "R",
   "name": "ir"
  },
  "language_info": {
   "codemirror_mode": "r",
   "file_extension": ".r",
   "mimetype": "text/x-r-source",
   "name": "R",
   "pygments_lexer": "r",
   "version": "3.4.2"
  }
 },
 "nbformat": 4,
 "nbformat_minor": 2
}

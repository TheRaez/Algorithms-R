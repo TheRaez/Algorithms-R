{
 "cells": [
  {
   "cell_type": "markdown",
   "metadata": {},
   "source": [
    "# 9.1 Calculating a Confidence Interval From a Normal Distribution"
   ]
  },
  {
   "cell_type": "code",
   "execution_count": 3,
   "metadata": {},
   "outputs": [
    {
     "data": {
      "text/html": [
       "4.12347745942342"
      ],
      "text/latex": [
       "4.12347745942342"
      ],
      "text/markdown": [
       "4.12347745942342"
      ],
      "text/plain": [
       "[1] 4.123477"
      ]
     },
     "metadata": {},
     "output_type": "display_data"
    },
    {
     "data": {
      "text/html": [
       "5.87652254057658"
      ],
      "text/latex": [
       "5.87652254057658"
      ],
      "text/markdown": [
       "5.87652254057658"
      ],
      "text/plain": [
       "[1] 5.876523"
      ]
     },
     "metadata": {},
     "output_type": "display_data"
    }
   ],
   "source": [
    "a <- 5\n",
    "s <- 2\n",
    "n <- 20\n",
    "error <- qnorm(0.975)*s/sqrt(n)\n",
    "left <- a-error\n",
    "right <- a+error\n",
    "left\n",
    "right"
   ]
  },
  {
   "cell_type": "markdown",
   "metadata": {},
   "source": [
    "# 9.2 Calculating a Confidence Interval From a t Distribution"
   ]
  },
  {
   "cell_type": "code",
   "execution_count": 4,
   "metadata": {},
   "outputs": [
    {
     "data": {
      "text/html": [
       "4.06397118716016"
      ],
      "text/latex": [
       "4.06397118716016"
      ],
      "text/markdown": [
       "4.06397118716016"
      ],
      "text/plain": [
       "[1] 4.063971"
      ]
     },
     "metadata": {},
     "output_type": "display_data"
    },
    {
     "data": {
      "text/html": [
       "5.93602881283984"
      ],
      "text/latex": [
       "5.93602881283984"
      ],
      "text/markdown": [
       "5.93602881283984"
      ],
      "text/plain": [
       "[1] 5.936029"
      ]
     },
     "metadata": {},
     "output_type": "display_data"
    }
   ],
   "source": [
    "error <- qt(0.975,df=n-1)*s/sqrt(n)\n",
    "left <- a-error\n",
    "right <- a+error\n",
    "left\n",
    "right"
   ]
  },
  {
   "cell_type": "code",
   "execution_count": 5,
   "metadata": {},
   "outputs": [
    {
     "data": {
      "text/plain": [
       "      vals      \n",
       " Min.   :0.130  \n",
       " 1st Qu.:0.480  \n",
       " Median :0.720  \n",
       " Mean   :0.765  \n",
       " 3rd Qu.:1.008  \n",
       " Max.   :1.760  "
      ]
     },
     "metadata": {},
     "output_type": "display_data"
    },
    {
     "data": {
      "text/html": [
       "54"
      ],
      "text/latex": [
       "54"
      ],
      "text/markdown": [
       "54"
      ],
      "text/plain": [
       "[1] 54"
      ]
     },
     "metadata": {},
     "output_type": "display_data"
    },
    {
     "data": {
      "text/html": [
       "0.765"
      ],
      "text/latex": [
       "0.765"
      ],
      "text/markdown": [
       "0.765"
      ],
      "text/plain": [
       "[1] 0.765"
      ]
     },
     "metadata": {},
     "output_type": "display_data"
    },
    {
     "data": {
      "text/html": [
       "0.378122222428595"
      ],
      "text/latex": [
       "0.378122222428595"
      ],
      "text/markdown": [
       "0.378122222428595"
      ],
      "text/plain": [
       "[1] 0.3781222"
      ]
     },
     "metadata": {},
     "output_type": "display_data"
    }
   ],
   "source": [
    "w1 <- read.csv(file=\"w1.dat\",sep=\",\",head=TRUE)\n",
    "summary(w1)\n",
    "length(w1$vals)\n",
    "mean(w1$vals)\n",
    "sd(w1$vals)"
   ]
  },
  {
   "cell_type": "code",
   "execution_count": 6,
   "metadata": {},
   "outputs": [
    {
     "data": {
      "text/html": [
       "0.103207499386534"
      ],
      "text/latex": [
       "0.103207499386534"
      ],
      "text/markdown": [
       "0.103207499386534"
      ],
      "text/plain": [
       "[1] 0.1032075"
      ]
     },
     "metadata": {},
     "output_type": "display_data"
    }
   ],
   "source": [
    "error <- qt(0.975,df=length(w1$vals)-1)*sd(w1$vals)/sqrt(length(w1$vals))\n",
    "error"
   ]
  },
  {
   "cell_type": "code",
   "execution_count": 8,
   "metadata": {},
   "outputs": [
    {
     "data": {
      "text/html": [
       "0.661792500613466"
      ],
      "text/latex": [
       "0.661792500613466"
      ],
      "text/markdown": [
       "0.661792500613466"
      ],
      "text/plain": [
       "[1] 0.6617925"
      ]
     },
     "metadata": {},
     "output_type": "display_data"
    },
    {
     "data": {
      "text/html": [
       "0.868207499386534"
      ],
      "text/latex": [
       "0.868207499386534"
      ],
      "text/markdown": [
       "0.868207499386534"
      ],
      "text/plain": [
       "[1] 0.8682075"
      ]
     },
     "metadata": {},
     "output_type": "display_data"
    }
   ],
   "source": [
    "left <- mean(w1$vals)-error\n",
    "right <- mean(w1$vals)+error\n",
    "left\n",
    "right"
   ]
  },
  {
   "cell_type": "markdown",
   "metadata": {},
   "source": [
    "# 9.3 Calculating Many Confidence Intervals From a t Distribution"
   ]
  },
  {
   "cell_type": "code",
   "execution_count": 10,
   "metadata": {},
   "outputs": [],
   "source": [
    "m1 <- c(10,12,30)\n",
    "m2 <- c(10.5,13,28.5)\n",
    "sd1 <- c(3,4,4.5)\n",
    "sd2 <- c(2.5,5.3,3)\n",
    "num1 <- c(300,210,420)\n",
    "num2 <- c(230,340,400)\n",
    "se <- sqrt(sd1*sd1/num1+sd2*sd2/num2)\n",
    "error <- qt(0.975,df=pmin(num1,num2)-1)*se"
   ]
  },
  {
   "cell_type": "code",
   "execution_count": 12,
   "metadata": {},
   "outputs": [
    {
     "data": {
      "text/html": [
       "<ol class=list-inline>\n",
       "\t<li>-0.971138234575807</li>\n",
       "\t<li>-1.78560924277423</li>\n",
       "\t<li>0.977217510983069</li>\n",
       "</ol>\n"
      ],
      "text/latex": [
       "\\begin{enumerate*}\n",
       "\\item -0.971138234575807\n",
       "\\item -1.78560924277423\n",
       "\\item 0.977217510983069\n",
       "\\end{enumerate*}\n"
      ],
      "text/markdown": [
       "1. -0.971138234575807\n",
       "2. -1.78560924277423\n",
       "3. 0.977217510983069\n",
       "\n",
       "\n"
      ],
      "text/plain": [
       "[1] -0.9711382 -1.7856092  0.9772175"
      ]
     },
     "metadata": {},
     "output_type": "display_data"
    },
    {
     "data": {
      "text/html": [
       "<ol class=list-inline>\n",
       "\t<li>-0.0288617654241927</li>\n",
       "\t<li>-0.214390757225766</li>\n",
       "\t<li>2.02278248901693</li>\n",
       "</ol>\n"
      ],
      "text/latex": [
       "\\begin{enumerate*}\n",
       "\\item -0.0288617654241927\n",
       "\\item -0.214390757225766\n",
       "\\item 2.02278248901693\n",
       "\\end{enumerate*}\n"
      ],
      "text/markdown": [
       "1. -0.0288617654241927\n",
       "2. -0.214390757225766\n",
       "3. 2.02278248901693\n",
       "\n",
       "\n"
      ],
      "text/plain": [
       "[1] -0.02886177 -0.21439076  2.02278249"
      ]
     },
     "metadata": {},
     "output_type": "display_data"
    }
   ],
   "source": [
    "left <- (m1-m2)-error\n",
    "right <- (m1-m2)+error\n",
    "left\n",
    "right"
   ]
  },
  {
   "cell_type": "code",
   "execution_count": null,
   "metadata": {
    "collapsed": true
   },
   "outputs": [],
   "source": []
  }
 ],
 "metadata": {
  "kernelspec": {
   "display_name": "R",
   "language": "R",
   "name": "ir"
  },
  "language_info": {
   "codemirror_mode": "r",
   "file_extension": ".r",
   "mimetype": "text/x-r-source",
   "name": "R",
   "pygments_lexer": "r",
   "version": "3.4.2"
  }
 },
 "nbformat": 4,
 "nbformat_minor": 2
}

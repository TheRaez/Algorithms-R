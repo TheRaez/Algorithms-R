{
 "cells": [
  {
   "cell_type": "markdown",
   "metadata": {},
   "source": [
    "# 14.1 Time and Date Variables"
   ]
  },
  {
   "cell_type": "code",
   "execution_count": 1,
   "metadata": {
    "collapsed": true
   },
   "outputs": [],
   "source": [
    "help(DateTimeClasses)"
   ]
  },
  {
   "cell_type": "code",
   "execution_count": 2,
   "metadata": {},
   "outputs": [
    {
     "data": {
      "text/html": [
       "'double'"
      ],
      "text/latex": [
       "'double'"
      ],
      "text/markdown": [
       "'double'"
      ],
      "text/plain": [
       "[1] \"double\""
      ]
     },
     "metadata": {},
     "output_type": "display_data"
    }
   ],
   "source": [
    "t <- Sys.time()\n",
    "typeof(t)"
   ]
  },
  {
   "cell_type": "code",
   "execution_count": 3,
   "metadata": {},
   "outputs": [
    {
     "data": {
      "text/plain": [
       "[1] \"2018-02-13 23:31:27 CET\""
      ]
     },
     "metadata": {},
     "output_type": "display_data"
    }
   ],
   "source": [
    "t"
   ]
  },
  {
   "cell_type": "code",
   "execution_count": 4,
   "metadata": {},
   "outputs": [
    {
     "name": "stdout",
     "output_type": "stream",
     "text": [
      "1518561087 \n"
     ]
    },
    {
     "data": {
      "text/html": [
       "'double'"
      ],
      "text/latex": [
       "'double'"
      ],
      "text/markdown": [
       "'double'"
      ],
      "text/plain": [
       "[1] \"double\""
      ]
     },
     "metadata": {},
     "output_type": "display_data"
    },
    {
     "name": "stdout",
     "output_type": "stream",
     "text": [
      "[1] \"2018-02-13 23:31:27 CET\"\n",
      "1518561087 \n"
     ]
    }
   ],
   "source": [
    "cat(t, \"\\n\")\n",
    "c <- as.POSIXct(t)\n",
    "typeof(c)\n",
    "print(c)\n",
    "cat(c, \"\\n\")"
   ]
  },
  {
   "cell_type": "code",
   "execution_count": 5,
   "metadata": {},
   "outputs": [
    {
     "data": {
      "text/plain": [
       "[1] \"2018-02-13 23:31:27 CET\""
      ]
     },
     "metadata": {},
     "output_type": "display_data"
    },
    {
     "data": {
      "text/html": [
       "'list'"
      ],
      "text/latex": [
       "'list'"
      ],
      "text/markdown": [
       "'list'"
      ],
      "text/plain": [
       "[1] \"list\""
      ]
     },
     "metadata": {},
     "output_type": "display_data"
    },
    {
     "name": "stdout",
     "output_type": "stream",
     "text": [
      "[1] \"2018-02-13 23:31:27 CET\"\n"
     ]
    },
    {
     "ename": "ERROR",
     "evalue": "Error in cat(l, \"\\n\"): el argumento 1 (type 'list') no es soportado por 'cat'\n",
     "output_type": "error",
     "traceback": [
      "Error in cat(l, \"\\n\"): el argumento 1 (type 'list') no es soportado por 'cat'\nTraceback:\n",
      "1. cat(l, \"\\n\")"
     ]
    }
   ],
   "source": [
    "l <- as.POSIXlt(t)\n",
    "l\n",
    "typeof(l)\n",
    "print(l)\n",
    "cat(l,\"\\n\")\n",
    "names(l)"
   ]
  },
  {
   "cell_type": "code",
   "execution_count": 6,
   "metadata": {},
   "outputs": [
    {
     "name": "stdout",
     "output_type": "stream",
     "text": [
      "1518561087 \n"
     ]
    }
   ],
   "source": [
    "b <- as.POSIXct(l)\n",
    "cat(b,\"\\n\")"
   ]
  },
  {
   "cell_type": "code",
   "execution_count": 7,
   "metadata": {
    "collapsed": true
   },
   "outputs": [],
   "source": [
    "help(strftime)"
   ]
  },
  {
   "cell_type": "code",
   "execution_count": 8,
   "metadata": {},
   "outputs": [
    {
     "name": "stdout",
     "output_type": "stream",
     "text": [
      "1518561528 \n"
     ]
    },
    {
     "data": {
      "text/html": [
       "'2018-02-13 23:38:47'"
      ],
      "text/latex": [
       "'2018-02-13 23:38:47'"
      ],
      "text/markdown": [
       "'2018-02-13 23:38:47'"
      ],
      "text/plain": [
       "[1] \"2018-02-13 23:38:47\""
      ]
     },
     "metadata": {},
     "output_type": "display_data"
    },
    {
     "data": {
      "text/html": [
       "'character'"
      ],
      "text/latex": [
       "'character'"
      ],
      "text/markdown": [
       "'character'"
      ],
      "text/plain": [
       "[1] \"character\""
      ]
     },
     "metadata": {},
     "output_type": "display_data"
    }
   ],
   "source": [
    "t <- Sys.time()\n",
    "cat(t,'\\n')\n",
    "timeStamp <- strftime(t,\"%Y-%m-%d %H:%M:%S\")\n",
    "timeStamp\n",
    "typeof(timeStamp)"
   ]
  },
  {
   "cell_type": "code",
   "execution_count": 9,
   "metadata": {},
   "outputs": [
    {
     "data": {
      "text/html": [
       "<table>\n",
       "<thead><tr><th scope=col>time</th><th scope=col>speed</th></tr></thead>\n",
       "<tbody>\n",
       "\t<tr><td>2014-01-23 14:28:21</td><td>2.0                </td></tr>\n",
       "\t<tr><td>2014-01-23 14:28:55</td><td>2.2                </td></tr>\n",
       "\t<tr><td>2014-01-23 14:29:02</td><td>3.4                </td></tr>\n",
       "\t<tr><td>2014-01-23 14:31:18</td><td>5.5                </td></tr>\n",
       "</tbody>\n",
       "</table>\n"
      ],
      "text/latex": [
       "\\begin{tabular}{r|ll}\n",
       " time & speed\\\\\n",
       "\\hline\n",
       "\t 2014-01-23 14:28:21 & 2.0                \\\\\n",
       "\t 2014-01-23 14:28:55 & 2.2                \\\\\n",
       "\t 2014-01-23 14:29:02 & 3.4                \\\\\n",
       "\t 2014-01-23 14:31:18 & 5.5                \\\\\n",
       "\\end{tabular}\n"
      ],
      "text/markdown": [
       "\n",
       "time | speed | \n",
       "|---|---|---|---|\n",
       "| 2014-01-23 14:28:21 | 2.0                 | \n",
       "| 2014-01-23 14:28:55 | 2.2                 | \n",
       "| 2014-01-23 14:29:02 | 3.4                 | \n",
       "| 2014-01-23 14:31:18 | 5.5                 | \n",
       "\n",
       "\n"
      ],
      "text/plain": [
       "  time                speed\n",
       "1 2014-01-23 14:28:21 2.0  \n",
       "2 2014-01-23 14:28:55 2.2  \n",
       "3 2014-01-23 14:29:02 3.4  \n",
       "4 2014-01-23 14:31:18 5.5  "
      ]
     },
     "metadata": {},
     "output_type": "display_data"
    }
   ],
   "source": [
    "myData <- data.frame(time=c(\"2014-01-23 14:28:21\",\"2014-01-23 14:28:55\",\n",
    "                            \"2014-01-23 14:29:02\",\"2014-01-23 14:31:18\"),\n",
    "                     speed=c(2.0,2.2,3.4,5.5))\n",
    "myData"
   ]
  },
  {
   "cell_type": "code",
   "execution_count": 10,
   "metadata": {},
   "outputs": [
    {
     "data": {
      "text/plain": [
       "                  time       speed      \n",
       " 2014-01-23 14:28:21:1   Min.   :2.000  \n",
       " 2014-01-23 14:28:55:1   1st Qu.:2.150  \n",
       " 2014-01-23 14:29:02:1   Median :2.800  \n",
       " 2014-01-23 14:31:18:1   Mean   :3.275  \n",
       "                         3rd Qu.:3.925  \n",
       "                         Max.   :5.500  "
      ]
     },
     "metadata": {},
     "output_type": "display_data"
    },
    {
     "data": {
      "text/html": [
       "2014-01-23 14:28:21"
      ],
      "text/latex": [
       "2014-01-23 14:28:21"
      ],
      "text/markdown": [
       "2014-01-23 14:28:21"
      ],
      "text/plain": [
       "[1] 2014-01-23 14:28:21\n",
       "4 Levels: 2014-01-23 14:28:21 2014-01-23 14:28:55 ... 2014-01-23 14:31:18"
      ]
     },
     "metadata": {},
     "output_type": "display_data"
    },
    {
     "data": {
      "text/html": [
       "'integer'"
      ],
      "text/latex": [
       "'integer'"
      ],
      "text/markdown": [
       "'integer'"
      ],
      "text/plain": [
       "[1] \"integer\""
      ]
     },
     "metadata": {},
     "output_type": "display_data"
    }
   ],
   "source": [
    "summary(myData)\n",
    "myData$time[1]\n",
    "typeof(myData$time[1])"
   ]
  },
  {
   "cell_type": "code",
   "execution_count": 11,
   "metadata": {},
   "outputs": [
    {
     "data": {
      "text/html": [
       "<table>\n",
       "<thead><tr><th scope=col>time</th><th scope=col>speed</th></tr></thead>\n",
       "<tbody>\n",
       "\t<tr><td>2014-01-23 14:28:21</td><td>2.0                </td></tr>\n",
       "\t<tr><td>2014-01-23 14:28:55</td><td>2.2                </td></tr>\n",
       "\t<tr><td>2014-01-23 14:29:02</td><td>3.4                </td></tr>\n",
       "\t<tr><td>2014-01-23 14:31:18</td><td>5.5                </td></tr>\n",
       "</tbody>\n",
       "</table>\n"
      ],
      "text/latex": [
       "\\begin{tabular}{r|ll}\n",
       " time & speed\\\\\n",
       "\\hline\n",
       "\t 2014-01-23 14:28:21 & 2.0                \\\\\n",
       "\t 2014-01-23 14:28:55 & 2.2                \\\\\n",
       "\t 2014-01-23 14:29:02 & 3.4                \\\\\n",
       "\t 2014-01-23 14:31:18 & 5.5                \\\\\n",
       "\\end{tabular}\n"
      ],
      "text/markdown": [
       "\n",
       "time | speed | \n",
       "|---|---|---|---|\n",
       "| 2014-01-23 14:28:21 | 2.0                 | \n",
       "| 2014-01-23 14:28:55 | 2.2                 | \n",
       "| 2014-01-23 14:29:02 | 3.4                 | \n",
       "| 2014-01-23 14:31:18 | 5.5                 | \n",
       "\n",
       "\n"
      ],
      "text/plain": [
       "  time                speed\n",
       "1 2014-01-23 14:28:21 2.0  \n",
       "2 2014-01-23 14:28:55 2.2  \n",
       "3 2014-01-23 14:29:02 3.4  \n",
       "4 2014-01-23 14:31:18 5.5  "
      ]
     },
     "metadata": {},
     "output_type": "display_data"
    },
    {
     "data": {
      "text/plain": [
       "[1] \"2014-01-23 14:28:21 CET\""
      ]
     },
     "metadata": {},
     "output_type": "display_data"
    },
    {
     "data": {
      "text/html": [
       "'list'"
      ],
      "text/latex": [
       "'list'"
      ],
      "text/markdown": [
       "'list'"
      ],
      "text/plain": [
       "[1] \"list\""
      ]
     },
     "metadata": {},
     "output_type": "display_data"
    },
    {
     "data": {
      "text/html": [
       "28"
      ],
      "text/latex": [
       "28"
      ],
      "text/markdown": [
       "28"
      ],
      "text/plain": [
       "[1] 28"
      ]
     },
     "metadata": {},
     "output_type": "display_data"
    }
   ],
   "source": [
    "myData$time <- strptime(myData$time,\"%Y-%m-%d %H:%M:%S\")\n",
    "myData\n",
    "myData$time[1]\n",
    "typeof(myData$time[1])\n",
    "myData$time[1][[2]]"
   ]
  },
  {
   "cell_type": "code",
   "execution_count": 12,
   "metadata": {},
   "outputs": [
    {
     "data": {
      "text/plain": [
       "Time differences in secs\n",
       "[1]  34   7 136"
      ]
     },
     "metadata": {},
     "output_type": "display_data"
    }
   ],
   "source": [
    "N = length(myData$time)\n",
    "myData$time[2:N] - myData$time[1:(N-1)]"
   ]
  },
  {
   "cell_type": "code",
   "execution_count": 22,
   "metadata": {},
   "outputs": [
    {
     "data": {
      "text/html": [
       "'double'"
      ],
      "text/latex": [
       "'double'"
      ],
      "text/markdown": [
       "'double'"
      ],
      "text/plain": [
       "[1] \"double\""
      ]
     },
     "metadata": {},
     "output_type": "display_data"
    }
   ],
   "source": [
    "theDates <- c(\"1 jan 2012\",\"1 jan 2013\",\"1 jan 2014\")\n",
    "dateFields <- as.Date(theDates,\"%d %b %Y\")\n",
    "typeof(dateFields)"
   ]
  },
  {
   "cell_type": "markdown",
   "metadata": {},
   "source": [
    "##### Check that"
   ]
  },
  {
   "cell_type": "code",
   "execution_count": 24,
   "metadata": {},
   "outputs": [
    {
     "data": {
      "text/html": [
       "<ol class=list-inline>\n",
       "\t<li><time datetime=\"&lt;NA&gt;\">&lt;NA&gt;</time></li>\n",
       "\t<li><time datetime=\"&lt;NA&gt;\">&lt;NA&gt;</time></li>\n",
       "\t<li><time datetime=\"&lt;NA&gt;\">&lt;NA&gt;</time></li>\n",
       "</ol>\n"
      ],
      "text/latex": [
       "\\begin{enumerate*}\n",
       "\\item <NA>\n",
       "\\item <NA>\n",
       "\\item <NA>\n",
       "\\end{enumerate*}\n"
      ],
      "text/markdown": [
       "1. &lt;NA&gt;\n",
       "2. &lt;NA&gt;\n",
       "3. &lt;NA&gt;\n",
       "\n",
       "\n"
      ],
      "text/plain": [
       "[1] NA NA NA"
      ]
     },
     "metadata": {},
     "output_type": "display_data"
    },
    {
     "data": {
      "text/plain": [
       "Time differences in days\n",
       "[1] NA NA"
      ]
     },
     "metadata": {},
     "output_type": "display_data"
    }
   ],
   "source": [
    "dateFields\n",
    "N <- length(dateFields)\n",
    "diff <- dateFields[1:(N-1)] - dateFields[2:N]\n",
    "diff"
   ]
  },
  {
   "cell_type": "code",
   "execution_count": 25,
   "metadata": {},
   "outputs": [
    {
     "data": {
      "text/html": [
       "<time datetime=\"1941-12-07\">1941-12-07</time>"
      ],
      "text/latex": [
       "1941-12-07"
      ],
      "text/markdown": [
       "1941-12-07"
      ],
      "text/plain": [
       "[1] \"1941-12-07\""
      ]
     },
     "metadata": {},
     "output_type": "display_data"
    },
    {
     "data": {
      "text/html": [
       "<time datetime=\"2018-02-13\">2018-02-13</time>"
      ],
      "text/latex": [
       "2018-02-13"
      ],
      "text/markdown": [
       "2018-02-13"
      ],
      "text/plain": [
       "[1] \"2018-02-13\""
      ]
     },
     "metadata": {},
     "output_type": "display_data"
    },
    {
     "data": {
      "text/plain": [
       "Time difference of 27827 days"
      ]
     },
     "metadata": {},
     "output_type": "display_data"
    }
   ],
   "source": [
    "infamy <- as.Date(-179,origin=\"1942-06-04\")\n",
    "infamy\n",
    "today <- Sys.Date()\n",
    "today\n",
    "today-infamy"
   ]
  },
  {
   "cell_type": "code",
   "execution_count": 26,
   "metadata": {},
   "outputs": [
    {
     "data": {
      "text/plain": [
       "[1] \"2018-02-13 23:50:43 CET\""
      ]
     },
     "metadata": {},
     "output_type": "display_data"
    },
    {
     "data": {
      "text/html": [
       "13.6121919716301"
      ],
      "text/latex": [
       "13.6121919716301"
      ],
      "text/markdown": [
       "13.6121919716301"
      ],
      "text/plain": [
       "[1] 13.61219"
      ]
     },
     "metadata": {},
     "output_type": "display_data"
    },
    {
     "name": "stdout",
     "output_type": "stream",
     "text": [
      "At about 23:50 the time between occurances was around 13.6 seconds\n"
     ]
    }
   ],
   "source": [
    "theTime <- Sys.time()\n",
    "theTime\n",
    "a <- rexp(1,0.1)\n",
    "a\n",
    "cat(\"At about\",format(theTime,\"%H:%M\"),\"the time between occurances was around\",format(a,digits=3),\"seconds\\n\")"
   ]
  },
  {
   "cell_type": "markdown",
   "metadata": {},
   "source": [
    "# 14.2 Time Operations"
   ]
  },
  {
   "cell_type": "code",
   "execution_count": 27,
   "metadata": {},
   "outputs": [
    {
     "data": {
      "text/plain": [
       "[1] \"2018-02-13 23:51:50 CET\""
      ]
     },
     "metadata": {},
     "output_type": "display_data"
    },
    {
     "data": {
      "text/plain": [
       "[1] \"2018-02-13 23:50:50 CET\""
      ]
     },
     "metadata": {},
     "output_type": "display_data"
    }
   ],
   "source": [
    "now <- Sys.time()\n",
    "now\n",
    "now-60"
   ]
  },
  {
   "cell_type": "code",
   "execution_count": 28,
   "metadata": {},
   "outputs": [
    {
     "data": {
      "text/plain": [
       "Time difference of 20 secs"
      ]
     },
     "metadata": {},
     "output_type": "display_data"
    },
    {
     "data": {
      "text/html": [
       "20"
      ],
      "text/latex": [
       "20"
      ],
      "text/markdown": [
       "20"
      ],
      "text/plain": [
       "[1] 20"
      ]
     },
     "metadata": {},
     "output_type": "display_data"
    }
   ],
   "source": [
    "earlier <- strptime(\"2000-01-01 00:00:00\",\"%Y-%m-%d %H:%M:%S\")\n",
    "later <- strptime(\"2000-01-01 00:00:20\",\"%Y-%m-%d %H:%M:%S\")\n",
    "later-earlier\n",
    "as.double(later-earlier)"
   ]
  },
  {
   "cell_type": "code",
   "execution_count": 29,
   "metadata": {},
   "outputs": [
    {
     "data": {
      "text/plain": [
       "Time difference of 1 hours"
      ]
     },
     "metadata": {},
     "output_type": "display_data"
    },
    {
     "data": {
      "text/html": [
       "1"
      ],
      "text/latex": [
       "1"
      ],
      "text/markdown": [
       "1"
      ],
      "text/plain": [
       "[1] 1"
      ]
     },
     "metadata": {},
     "output_type": "display_data"
    }
   ],
   "source": [
    "earlier <- strptime(\"2000-01-01 00:00:00\",\"%Y-%m-%d %H:%M:%S\")\n",
    "later <- strptime(\"2000-01-01 01:00:00\",\"%Y-%m-%d %H:%M:%S\")\n",
    "later-earlier\n",
    "as.double(later-earlier)"
   ]
  },
  {
   "cell_type": "code",
   "execution_count": 30,
   "metadata": {},
   "outputs": [
    {
     "data": {
      "text/plain": [
       "Time difference of 10315 days"
      ]
     },
     "metadata": {},
     "output_type": "display_data"
    }
   ],
   "source": [
    "up <- as.Date(\"1961-08-13\")\n",
    "down <- as.Date(\"1989-11-9\")\n",
    "down-up"
   ]
  },
  {
   "cell_type": "code",
   "execution_count": 31,
   "metadata": {
    "collapsed": true
   },
   "outputs": [],
   "source": [
    "help(difftime)"
   ]
  },
  {
   "cell_type": "code",
   "execution_count": 32,
   "metadata": {},
   "outputs": [
    {
     "data": {
      "text/plain": [
       "Time difference of 1 hours"
      ]
     },
     "metadata": {},
     "output_type": "display_data"
    },
    {
     "data": {
      "text/plain": [
       "Time difference of 3600 secs"
      ]
     },
     "metadata": {},
     "output_type": "display_data"
    }
   ],
   "source": [
    "earlier <- strptime(\"2000-01-01 00:00:00\",\"%Y-%m-%d %H:%M:%S\")\n",
    "later <- strptime(\"2000-01-01 01:00:00\",\"%Y-%m-%d %H:%M:%S\")\n",
    "difftime(later,earlier)\n",
    "difftime(later,earlier,units=\"secs\")"
   ]
  },
  {
   "cell_type": "code",
   "execution_count": 33,
   "metadata": {},
   "outputs": [
    {
     "data": {
      "text/plain": [
       "Time difference of 20 secs"
      ]
     },
     "metadata": {},
     "output_type": "display_data"
    },
    {
     "data": {
      "text/html": [
       "'double'"
      ],
      "text/latex": [
       "'double'"
      ],
      "text/markdown": [
       "'double'"
      ],
      "text/plain": [
       "[1] \"double\""
      ]
     },
     "metadata": {},
     "output_type": "display_data"
    },
    {
     "data": {
      "text/html": [
       "20"
      ],
      "text/latex": [
       "20"
      ],
      "text/markdown": [
       "20"
      ],
      "text/plain": [
       "[1] 20"
      ]
     },
     "metadata": {},
     "output_type": "display_data"
    }
   ],
   "source": [
    "earlier <- strptime(\"2000-01-01 00:00:00\",\"%Y-%m-%d %H:%M:%S\")\n",
    "later <- strptime(\"2000-01-01 00:00:20\",\"%Y-%m-%d %H:%M:%S\")\n",
    "d <- difftime(later,earlier)\n",
    "d\n",
    "typeof(d)\n",
    "as.double(d)"
   ]
  },
  {
   "cell_type": "code",
   "execution_count": 34,
   "metadata": {},
   "outputs": [
    {
     "data": {
      "text/plain": [
       "Time difference of 0.5 hours"
      ]
     },
     "metadata": {},
     "output_type": "display_data"
    },
    {
     "data": {
      "text/plain": [
       "[1] \"2018-02-13 23:54:18 CET\""
      ]
     },
     "metadata": {},
     "output_type": "display_data"
    },
    {
     "data": {
      "text/plain": [
       "[1] \"2018-02-14 00:24:18 CET\""
      ]
     },
     "metadata": {},
     "output_type": "display_data"
    }
   ],
   "source": [
    "diff <- as.difftime(\"00:30:00\",\"%H:%M:%S\",units=\"hour\")\n",
    "diff\n",
    "Sys.time()\n",
    "Sys.time()+diff"
   ]
  },
  {
   "cell_type": "code",
   "execution_count": 35,
   "metadata": {},
   "outputs": [
    {
     "data": {
      "text/plain": [
       "[1] \"2018-02-13 23:54:48 CET\""
      ]
     },
     "metadata": {},
     "output_type": "display_data"
    },
    {
     "data": {
      "text/plain": [
       "[1] \"2018-02-14 00:24:48 CET\""
      ]
     },
     "metadata": {},
     "output_type": "display_data"
    }
   ],
   "source": [
    "diff <- as.difftime(\"00:30:00\",\"%H:%M:%S\",units=\"hour\")\n",
    "now <- Sys.time()\n",
    "later <- now + diff\n",
    "now\n",
    "later"
   ]
  },
  {
   "cell_type": "code",
   "execution_count": 36,
   "metadata": {},
   "outputs": [
    {
     "name": "stdout",
     "output_type": "stream",
     "text": [
      "there you go\n"
     ]
    }
   ],
   "source": [
    "if(now < later)\n",
    "{\n",
    "   cat(\"there you go\\n\")\n",
    "}"
   ]
  }
 ],
 "metadata": {
  "kernelspec": {
   "display_name": "R",
   "language": "R",
   "name": "ir"
  },
  "language_info": {
   "codemirror_mode": "r",
   "file_extension": ".r",
   "mimetype": "text/x-r-source",
   "name": "R",
   "pygments_lexer": "r",
   "version": "3.4.2"
  }
 },
 "nbformat": 4,
 "nbformat_minor": 2
}

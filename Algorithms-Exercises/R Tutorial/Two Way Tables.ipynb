{
 "cells": [
  {
   "cell_type": "markdown",
   "metadata": {},
   "source": [
    "# 12.1 Creating a Table from Data "
   ]
  },
  {
   "cell_type": "code",
   "execution_count": 6,
   "metadata": {},
   "outputs": [
    {
     "data": {
      "text/plain": [
       "     Smoke         SES     \n",
       " current:116   High  :211  \n",
       " former :141   Low   : 93  \n",
       " never  : 99   Middle: 52  "
      ]
     },
     "metadata": {},
     "output_type": "display_data"
    }
   ],
   "source": [
    "smokerData <- read.csv(file='smoker.csv',sep=',',header=T)\n",
    "summary(smokerData)"
   ]
  },
  {
   "cell_type": "code",
   "execution_count": 8,
   "metadata": {},
   "outputs": [
    {
     "data": {
      "text/plain": [
       "         \n",
       "          High Low Middle\n",
       "  current   51  43     22\n",
       "  former    92  28     21\n",
       "  never     68  22      9"
      ]
     },
     "metadata": {},
     "output_type": "display_data"
    }
   ],
   "source": [
    "smoke <- table(smokerData$Smoke,smokerData$SES)\n",
    "smoke"
   ]
  },
  {
   "cell_type": "markdown",
   "metadata": {},
   "source": [
    "#  12.2 Creating a Table Directly"
   ]
  },
  {
   "cell_type": "code",
   "execution_count": 9,
   "metadata": {},
   "outputs": [
    {
     "data": {
      "text/plain": [
       "        High Low Middle\n",
       "current   51  43     22\n",
       "former    92  28     21\n",
       "never     68  22      9"
      ]
     },
     "metadata": {},
     "output_type": "display_data"
    }
   ],
   "source": [
    "smoke <- matrix(c(51,43,22,92,28,21,68,22,9),ncol=3,byrow=TRUE)\n",
    "colnames(smoke) <- c(\"High\",\"Low\",\"Middle\")\n",
    "rownames(smoke) <- c(\"current\",\"former\",\"never\")\n",
    "smoke <- as.table(smoke)\n",
    "smoke"
   ]
  },
  {
   "cell_type": "markdown",
   "metadata": {},
   "source": [
    "# 12.3 Tools for Working With Tables"
   ]
  },
  {
   "cell_type": "code",
   "execution_count": 10,
   "metadata": {},
   "outputs": [
    {
     "data": {
      "image/png": "[encoded data removed]",
      "text/plain": [
       "Plot with title \"Smoking Status by SES\""
      ]
     },
     "metadata": {},
     "output_type": "display_data"
    },
    {
     "data": {
      "image/png": "[encoded data removed]",
      "text/plain": [
       "Plot with title \"Smoking Status By Socioeconomic Status\""
      ]
     },
     "metadata": {},
     "output_type": "display_data"
    }
   ],
   "source": [
    "barplot(smoke,legend=T,beside=T,main='Smoking Status by SES')\n",
    "plot(smoke,main=\"Smoking Status By Socioeconomic Status\")"
   ]
  },
  {
   "cell_type": "code",
   "execution_count": 11,
   "metadata": {},
   "outputs": [
    {
     "data": {
      "text/html": [
       "356"
      ],
      "text/latex": [
       "356"
      ],
      "text/markdown": [
       "356"
      ],
      "text/plain": [
       "[1] 356"
      ]
     },
     "metadata": {},
     "output_type": "display_data"
    },
    {
     "data": {
      "text/plain": [
       "current  former   never \n",
       "    116     141      99 "
      ]
     },
     "metadata": {},
     "output_type": "display_data"
    },
    {
     "data": {
      "text/plain": [
       "  High    Low Middle \n",
       "   211     93     52 "
      ]
     },
     "metadata": {},
     "output_type": "display_data"
    }
   ],
   "source": [
    "margin.table(smoke)\n",
    "margin.table(smoke,1)\n",
    "margin.table(smoke,2)"
   ]
  },
  {
   "cell_type": "code",
   "execution_count": 12,
   "metadata": {},
   "outputs": [
    {
     "data": {
      "text/plain": [
       "              High        Low     Middle\n",
       "current 0.14325843 0.12078652 0.06179775\n",
       "former  0.25842697 0.07865169 0.05898876\n",
       "never   0.19101124 0.06179775 0.02528090"
      ]
     },
     "metadata": {},
     "output_type": "display_data"
    },
    {
     "data": {
      "text/plain": [
       "  current    former     never \n",
       "0.3258427 0.3960674 0.2780899 "
      ]
     },
     "metadata": {},
     "output_type": "display_data"
    },
    {
     "data": {
      "text/plain": [
       "     High       Low    Middle \n",
       "0.5926966 0.2612360 0.1460674 "
      ]
     },
     "metadata": {},
     "output_type": "display_data"
    }
   ],
   "source": [
    "smoke/margin.table(smoke)\n",
    "margin.table(smoke,1)/margin.table(smoke)\n",
    "margin.table(smoke,2)/margin.table(smoke)"
   ]
  },
  {
   "cell_type": "code",
   "execution_count": 13,
   "metadata": {},
   "outputs": [
    {
     "data": {
      "text/plain": [
       "              High        Low     Middle\n",
       "current 0.14325843 0.12078652 0.06179775\n",
       "former  0.25842697 0.07865169 0.05898876\n",
       "never   0.19101124 0.06179775 0.02528090"
      ]
     },
     "metadata": {},
     "output_type": "display_data"
    },
    {
     "data": {
      "text/plain": [
       "              High        Low     Middle\n",
       "current 0.43965517 0.37068966 0.18965517\n",
       "former  0.65248227 0.19858156 0.14893617\n",
       "never   0.68686869 0.22222222 0.09090909"
      ]
     },
     "metadata": {},
     "output_type": "display_data"
    },
    {
     "data": {
      "text/plain": [
       "             High       Low    Middle\n",
       "current 0.2417062 0.4623656 0.4230769\n",
       "former  0.4360190 0.3010753 0.4038462\n",
       "never   0.3222749 0.2365591 0.1730769"
      ]
     },
     "metadata": {},
     "output_type": "display_data"
    }
   ],
   "source": [
    "prop.table(smoke)\n",
    "prop.table(smoke,1)\n",
    "prop.table(smoke,2)"
   ]
  },
  {
   "cell_type": "code",
   "execution_count": 14,
   "metadata": {},
   "outputs": [
    {
     "data": {
      "text/plain": [
       "Number of cases in table: 356 \n",
       "Number of factors: 2 \n",
       "Test for independence of all factors:\n",
       "\tChisq = 18.51, df = 4, p-value = 0.0009808"
      ]
     },
     "metadata": {},
     "output_type": "display_data"
    }
   ],
   "source": [
    "summary(smoke)"
   ]
  },
  {
   "cell_type": "code",
   "execution_count": 15,
   "metadata": {},
   "outputs": [
    {
     "data": {
      "text/html": [
       "<table>\n",
       "<thead><tr><th></th><th scope=col>High</th><th scope=col>Low</th><th scope=col>Middle</th></tr></thead>\n",
       "<tbody>\n",
       "\t<tr><th scope=row>current</th><td>68.75281</td><td>30.30337</td><td>16.94382</td></tr>\n",
       "\t<tr><th scope=row>former</th><td>83.57022</td><td>36.83427</td><td>20.59551</td></tr>\n",
       "\t<tr><th scope=row>never</th><td>58.67697</td><td>25.86236</td><td>14.46067</td></tr>\n",
       "</tbody>\n",
       "</table>\n"
      ],
      "text/latex": [
       "\\begin{tabular}{r|lll}\n",
       "  & High & Low & Middle\\\\\n",
       "\\hline\n",
       "\tcurrent & 68.75281 & 30.30337 & 16.94382\\\\\n",
       "\tformer & 83.57022 & 36.83427 & 20.59551\\\\\n",
       "\tnever & 58.67697 & 25.86236 & 14.46067\\\\\n",
       "\\end{tabular}\n"
      ],
      "text/markdown": [
       "\n",
       "| <!--/--> | High | Low | Middle | \n",
       "|---|---|---|\n",
       "| current | 68.75281 | 30.30337 | 16.94382 | \n",
       "| former | 83.57022 | 36.83427 | 20.59551 | \n",
       "| never | 58.67697 | 25.86236 | 14.46067 | \n",
       "\n",
       "\n"
      ],
      "text/plain": [
       "        High     Low      Middle  \n",
       "current 68.75281 30.30337 16.94382\n",
       "former  83.57022 36.83427 20.59551\n",
       "never   58.67697 25.86236 14.46067"
      ]
     },
     "metadata": {},
     "output_type": "display_data"
    }
   ],
   "source": [
    "expected <- as.array(margin.table(smoke,1)) %*% t(as.array(margin.table(smoke,2))) / margin.table(smoke)\n",
    "expected"
   ]
  },
  {
   "cell_type": "code",
   "execution_count": 16,
   "metadata": {},
   "outputs": [
    {
     "data": {
      "text/html": [
       "18.5097413612762"
      ],
      "text/latex": [
       "18.5097413612762"
      ],
      "text/markdown": [
       "18.5097413612762"
      ],
      "text/plain": [
       "[1] 18.50974"
      ]
     },
     "metadata": {},
     "output_type": "display_data"
    }
   ],
   "source": [
    "chi <- sum((expected - as.array(smoke))^2/expected)\n",
    "chi"
   ]
  },
  {
   "cell_type": "code",
   "execution_count": 17,
   "metadata": {},
   "outputs": [
    {
     "data": {
      "text/html": [
       "0.000980823630912231"
      ],
      "text/latex": [
       "0.000980823630912231"
      ],
      "text/markdown": [
       "0.000980823630912231"
      ],
      "text/plain": [
       "[1] 0.0009808236"
      ]
     },
     "metadata": {},
     "output_type": "display_data"
    }
   ],
   "source": [
    "1-pchisq(chi,df=4)"
   ]
  },
  {
   "cell_type": "markdown",
   "metadata": {},
   "source": [
    "# 12.4 Graphical Views of Tables"
   ]
  },
  {
   "cell_type": "code",
   "execution_count": 18,
   "metadata": {},
   "outputs": [
    {
     "data": {
      "image/png": "[encoded data removed]",
      "text/plain": [
       "Plot with title \"smoke\""
      ]
     },
     "metadata": {},
     "output_type": "display_data"
    }
   ],
   "source": [
    "smokerData <- read.csv(file='smoker.csv',sep=',',header=T)\n",
    "smoke <- table(smokerData$Smoke,smokerData$SES)\n",
    "mosaicplot(smoke)"
   ]
  },
  {
   "cell_type": "code",
   "execution_count": 19,
   "metadata": {},
   "outputs": [
    {
     "data": {
      "image/png": "[encoded data removed]",
      "text/plain": [
       "Plot with title \"Smokers\""
      ]
     },
     "metadata": {},
     "output_type": "display_data"
    }
   ],
   "source": [
    "mosaicplot(smoke,main=\"Smokers\",xlab=\"Status\",ylab=\"Economic Class\")"
   ]
  },
  {
   "cell_type": "code",
   "execution_count": 20,
   "metadata": {},
   "outputs": [
    {
     "data": {
      "image/png": "[encoded data removed]",
      "text/plain": [
       "Plot with title \"Smokers\""
      ]
     },
     "metadata": {},
     "output_type": "display_data"
    },
    {
     "data": {
      "image/png": "[encoded data removed]",
      "text/plain": [
       "Plot with title \"smoke\""
      ]
     },
     "metadata": {},
     "output_type": "display_data"
    }
   ],
   "source": [
    "mosaicplot(smoke,main=\"Smokers\",xlab=\"Status\",ylab=\"Economic Class\")\n",
    "mosaicplot(smoke,sort=c(2,1))"
   ]
  },
  {
   "cell_type": "code",
   "execution_count": 21,
   "metadata": {},
   "outputs": [
    {
     "data": {
      "image/png": "[encoded data removed]",
      "text/plain": [
       "Plot with title \"Smokers\""
      ]
     },
     "metadata": {},
     "output_type": "display_data"
    },
    {
     "data": {
      "image/png": "[encoded data removed]",
      "text/plain": [
       "Plot with title \"smoke\""
      ]
     },
     "metadata": {},
     "output_type": "display_data"
    }
   ],
   "source": [
    "mosaicplot(smoke,main=\"Smokers\",xlab=\"Status\",ylab=\"Economic Class\")\n",
    "mosaicplot(smoke,dir=c(\"v\",\"h\"))"
   ]
  },
  {
   "cell_type": "code",
   "execution_count": null,
   "metadata": {
    "collapsed": true
   },
   "outputs": [],
   "source": []
  }
 ],
 "metadata": {
  "kernelspec": {
   "display_name": "R",
   "language": "R",
   "name": "ir"
  },
  "language_info": {
   "codemirror_mode": "r",
   "file_extension": ".r",
   "mimetype": "text/x-r-source",
   "name": "R",
   "pygments_lexer": "r",
   "version": "3.4.2"
  }
 },
 "nbformat": 4,
 "nbformat_minor": 2
}

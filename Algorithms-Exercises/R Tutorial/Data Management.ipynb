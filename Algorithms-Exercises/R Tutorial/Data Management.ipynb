{
 "cells": [
  {
   "cell_type": "markdown",
   "metadata": {},
   "source": [
    "# 13.1 Appending Data"
   ]
  },
  {
   "cell_type": "code",
   "execution_count": 1,
   "metadata": {
    "collapsed": true
   },
   "outputs": [],
   "source": [
    "a <- data.frame(one=c(0,1,2),two=c(\"a\",\"a\",\"b\"))\n",
    "b <- data.frame(one=c(10,11,12), two=c(\"c\",\"c\",\"d\"))"
   ]
  },
  {
   "cell_type": "code",
   "execution_count": 2,
   "metadata": {},
   "outputs": [
    {
     "data": {
      "text/html": [
       "'list'"
      ],
      "text/latex": [
       "'list'"
      ],
      "text/markdown": [
       "'list'"
      ],
      "text/plain": [
       "[1] \"list\""
      ]
     },
     "metadata": {},
     "output_type": "display_data"
    },
    {
     "data": {
      "text/html": [
       "<table>\n",
       "<thead><tr><th scope=col>one</th><th scope=col>two</th></tr></thead>\n",
       "<tbody>\n",
       "\t<tr><td> 0</td><td>a </td></tr>\n",
       "\t<tr><td> 1</td><td>a </td></tr>\n",
       "\t<tr><td> 2</td><td>b </td></tr>\n",
       "\t<tr><td>10</td><td>c </td></tr>\n",
       "\t<tr><td>11</td><td>c </td></tr>\n",
       "\t<tr><td>12</td><td>d </td></tr>\n",
       "</tbody>\n",
       "</table>\n"
      ],
      "text/latex": [
       "\\begin{tabular}{r|ll}\n",
       " one & two\\\\\n",
       "\\hline\n",
       "\t  0 & a \\\\\n",
       "\t  1 & a \\\\\n",
       "\t  2 & b \\\\\n",
       "\t 10 & c \\\\\n",
       "\t 11 & c \\\\\n",
       "\t 12 & d \\\\\n",
       "\\end{tabular}\n"
      ],
      "text/markdown": [
       "\n",
       "one | two | \n",
       "|---|---|---|---|---|---|\n",
       "|  0 | a  | \n",
       "|  1 | a  | \n",
       "|  2 | b  | \n",
       "| 10 | c  | \n",
       "| 11 | c  | \n",
       "| 12 | d  | \n",
       "\n",
       "\n"
      ],
      "text/plain": [
       "  one two\n",
       "1  0  a  \n",
       "2  1  a  \n",
       "3  2  b  \n",
       "4 10  c  \n",
       "5 11  c  \n",
       "6 12  d  "
      ]
     },
     "metadata": {},
     "output_type": "display_data"
    }
   ],
   "source": [
    "v <- rbind(a,b)\n",
    "typeof(v)\n",
    "v"
   ]
  },
  {
   "cell_type": "code",
   "execution_count": 3,
   "metadata": {},
   "outputs": [
    {
     "data": {
      "text/html": [
       "'list'"
      ],
      "text/latex": [
       "'list'"
      ],
      "text/markdown": [
       "'list'"
      ],
      "text/plain": [
       "[1] \"list\""
      ]
     },
     "metadata": {},
     "output_type": "display_data"
    },
    {
     "data": {
      "text/html": [
       "<table>\n",
       "<thead><tr><th scope=col>one</th><th scope=col>two</th><th scope=col>one</th><th scope=col>two</th></tr></thead>\n",
       "<tbody>\n",
       "\t<tr><td>0 </td><td>a </td><td>10</td><td>c </td></tr>\n",
       "\t<tr><td>1 </td><td>a </td><td>11</td><td>c </td></tr>\n",
       "\t<tr><td>2 </td><td>b </td><td>12</td><td>d </td></tr>\n",
       "</tbody>\n",
       "</table>\n"
      ],
      "text/latex": [
       "\\begin{tabular}{r|llll}\n",
       " one & two & one & two\\\\\n",
       "\\hline\n",
       "\t 0  & a  & 10 & c \\\\\n",
       "\t 1  & a  & 11 & c \\\\\n",
       "\t 2  & b  & 12 & d \\\\\n",
       "\\end{tabular}\n"
      ],
      "text/markdown": [
       "\n",
       "one | two | one | two | \n",
       "|---|---|---|\n",
       "| 0  | a  | 10 | c  | \n",
       "| 1  | a  | 11 | c  | \n",
       "| 2  | b  | 12 | d  | \n",
       "\n",
       "\n"
      ],
      "text/plain": [
       "  one two one two\n",
       "1 0   a   10  c  \n",
       "2 1   a   11  c  \n",
       "3 2   b   12  d  "
      ]
     },
     "metadata": {},
     "output_type": "display_data"
    }
   ],
   "source": [
    "w <- cbind(a,b)\n",
    "typeof(w)\n",
    "w"
   ]
  },
  {
   "cell_type": "code",
   "execution_count": 4,
   "metadata": {},
   "outputs": [
    {
     "data": {
      "text/html": [
       "<table>\n",
       "<thead><tr><th scope=col>one</th><th scope=col>two</th><th scope=col>three</th><th scope=col>four</th></tr></thead>\n",
       "<tbody>\n",
       "\t<tr><td>0 </td><td>a </td><td>10</td><td>c </td></tr>\n",
       "\t<tr><td>1 </td><td>a </td><td>11</td><td>c </td></tr>\n",
       "\t<tr><td>2 </td><td>b </td><td>12</td><td>d </td></tr>\n",
       "</tbody>\n",
       "</table>\n"
      ],
      "text/latex": [
       "\\begin{tabular}{r|llll}\n",
       " one & two & three & four\\\\\n",
       "\\hline\n",
       "\t 0  & a  & 10 & c \\\\\n",
       "\t 1  & a  & 11 & c \\\\\n",
       "\t 2  & b  & 12 & d \\\\\n",
       "\\end{tabular}\n"
      ],
      "text/markdown": [
       "\n",
       "one | two | three | four | \n",
       "|---|---|---|\n",
       "| 0  | a  | 10 | c  | \n",
       "| 1  | a  | 11 | c  | \n",
       "| 2  | b  | 12 | d  | \n",
       "\n",
       "\n"
      ],
      "text/plain": [
       "  one two three four\n",
       "1 0   a   10    c   \n",
       "2 1   a   11    c   \n",
       "3 2   b   12    d   "
      ]
     },
     "metadata": {},
     "output_type": "display_data"
    }
   ],
   "source": [
    "names(w) <- c(\"one\",\"two\",\"three\",\"four\")\n",
    "w"
   ]
  },
  {
   "cell_type": "markdown",
   "metadata": {},
   "source": [
    "##### Matrices"
   ]
  },
  {
   "cell_type": "code",
   "execution_count": 5,
   "metadata": {
    "collapsed": true
   },
   "outputs": [],
   "source": [
    "A <- matrix(c(1,2,3,4,5,6),ncol=3,byrow=TRUE)\n",
    "B <- matrix(c(10,20,30,40,50,60),ncol=3,byrow=TRUE)"
   ]
  },
  {
   "cell_type": "code",
   "execution_count": 6,
   "metadata": {},
   "outputs": [
    {
     "data": {
      "text/html": [
       "'double'"
      ],
      "text/latex": [
       "'double'"
      ],
      "text/markdown": [
       "'double'"
      ],
      "text/plain": [
       "[1] \"double\""
      ]
     },
     "metadata": {},
     "output_type": "display_data"
    },
    {
     "data": {
      "text/html": [
       "<table>\n",
       "<tbody>\n",
       "\t<tr><td> 1</td><td> 2</td><td> 3</td></tr>\n",
       "\t<tr><td> 4</td><td> 5</td><td> 6</td></tr>\n",
       "\t<tr><td>10</td><td>20</td><td>30</td></tr>\n",
       "\t<tr><td>40</td><td>50</td><td>60</td></tr>\n",
       "</tbody>\n",
       "</table>\n"
      ],
      "text/latex": [
       "\\begin{tabular}{lll}\n",
       "\t  1 &  2 &  3\\\\\n",
       "\t  4 &  5 &  6\\\\\n",
       "\t 10 & 20 & 30\\\\\n",
       "\t 40 & 50 & 60\\\\\n",
       "\\end{tabular}\n"
      ],
      "text/markdown": [
       "\n",
       "|  1 |  2 |  3 | \n",
       "|  4 |  5 |  6 | \n",
       "| 10 | 20 | 30 | \n",
       "| 40 | 50 | 60 | \n",
       "\n",
       "\n"
      ],
      "text/plain": [
       "     [,1] [,2] [,3]\n",
       "[1,]  1    2    3  \n",
       "[2,]  4    5    6  \n",
       "[3,] 10   20   30  \n",
       "[4,] 40   50   60  "
      ]
     },
     "metadata": {},
     "output_type": "display_data"
    }
   ],
   "source": [
    "V <- rbind(A,B)\n",
    "typeof(V)\n",
    "V"
   ]
  },
  {
   "cell_type": "code",
   "execution_count": 7,
   "metadata": {},
   "outputs": [
    {
     "data": {
      "text/html": [
       "'double'"
      ],
      "text/latex": [
       "'double'"
      ],
      "text/markdown": [
       "'double'"
      ],
      "text/plain": [
       "[1] \"double\""
      ]
     },
     "metadata": {},
     "output_type": "display_data"
    },
    {
     "data": {
      "text/html": [
       "<table>\n",
       "<tbody>\n",
       "\t<tr><td>1 </td><td>2 </td><td>3 </td><td>10</td><td>20</td><td>30</td></tr>\n",
       "\t<tr><td>4 </td><td>5 </td><td>6 </td><td>40</td><td>50</td><td>60</td></tr>\n",
       "</tbody>\n",
       "</table>\n"
      ],
      "text/latex": [
       "\\begin{tabular}{llllll}\n",
       "\t 1  & 2  & 3  & 10 & 20 & 30\\\\\n",
       "\t 4  & 5  & 6  & 40 & 50 & 60\\\\\n",
       "\\end{tabular}\n"
      ],
      "text/markdown": [
       "\n",
       "| 1  | 2  | 3  | 10 | 20 | 30 | \n",
       "| 4  | 5  | 6  | 40 | 50 | 60 | \n",
       "\n",
       "\n"
      ],
      "text/plain": [
       "     [,1] [,2] [,3] [,4] [,5] [,6]\n",
       "[1,] 1    2    3    10   20   30  \n",
       "[2,] 4    5    6    40   50   60  "
      ]
     },
     "metadata": {},
     "output_type": "display_data"
    }
   ],
   "source": [
    "W <- cbind(A,B)\n",
    "typeof(W)\n",
    "W"
   ]
  },
  {
   "cell_type": "markdown",
   "metadata": {},
   "source": [
    "# 13.2 Applying Functions Across Data elements "
   ]
  },
  {
   "cell_type": "markdown",
   "metadata": {},
   "source": [
    "## 13.2.1 Operations on Lists and Vectors "
   ]
  },
  {
   "cell_type": "code",
   "execution_count": 9,
   "metadata": {},
   "outputs": [
    {
     "data": {
      "text/plain": [
       "$a\n",
       "   Min. 1st Qu.  Median    Mean 3rd Qu.    Max. \n",
       "-28.866  -4.771   2.731   2.463   9.448  26.229 \n",
       "\n",
       "$b\n",
       "     Min.   1st Qu.    Median      Mean   3rd Qu.      Max. \n",
       "0.0006244 0.0323953 0.0694440 0.1037985 0.1366228 0.6563432 \n",
       "\n",
       "$c\n",
       "a b c \n",
       "1 3 2 \n"
      ]
     },
     "metadata": {},
     "output_type": "display_data"
    }
   ],
   "source": [
    "x <- list(a=rnorm(200,mean=1,sd=10),\n",
    "          b=rexp(300,10.0),\n",
    "          c=as.factor(c(\"a\",\"b\",\"b\",\"b\",\"c\",\"c\")))\n",
    "lapply(x,summary)"
   ]
  },
  {
   "cell_type": "code",
   "execution_count": 10,
   "metadata": {},
   "outputs": [
    {
     "data": {
      "text/html": [
       "<dl>\n",
       "\t<dt>$a</dt>\n",
       "\t\t<dd><ol class=list-inline>\n",
       "\t<li>-19.3493731793174</li>\n",
       "\t<li>-15.3347399821994</li>\n",
       "\t<li>-0.897695887657003</li>\n",
       "\t<li>-8.78057444679395</li>\n",
       "\t<li>-3.219606901804</li>\n",
       "\t<li>11.5196935010966</li>\n",
       "\t<li>-3.2089375719387</li>\n",
       "\t<li>-6.02864457022113</li>\n",
       "</ol>\n",
       "</dd>\n",
       "\t<dt>$b</dt>\n",
       "\t\t<dd><ol class=list-inline>\n",
       "\t<li>0.0551745568867773</li>\n",
       "\t<li>0.0122717212630254</li>\n",
       "\t<li>0.174871093432514</li>\n",
       "\t<li>0.00721340463496745</li>\n",
       "\t<li>0.0248694534302343</li>\n",
       "\t<li>0.0451439746655524</li>\n",
       "\t<li>0.138750192711339</li>\n",
       "\t<li>0.0881271237465453</li>\n",
       "\t<li>0.00523791369050741</li>\n",
       "\t<li>0.245792514259431</li>\n",
       "</ol>\n",
       "</dd>\n",
       "</dl>\n"
      ],
      "text/latex": [
       "\\begin{description}\n",
       "\\item[\\$a] \\begin{enumerate*}\n",
       "\\item -19.3493731793174\n",
       "\\item -15.3347399821994\n",
       "\\item -0.897695887657003\n",
       "\\item -8.78057444679395\n",
       "\\item -3.219606901804\n",
       "\\item 11.5196935010966\n",
       "\\item -3.2089375719387\n",
       "\\item -6.02864457022113\n",
       "\\end{enumerate*}\n",
       "\n",
       "\\item[\\$b] \\begin{enumerate*}\n",
       "\\item 0.0551745568867773\n",
       "\\item 0.0122717212630254\n",
       "\\item 0.174871093432514\n",
       "\\item 0.00721340463496745\n",
       "\\item 0.0248694534302343\n",
       "\\item 0.0451439746655524\n",
       "\\item 0.138750192711339\n",
       "\\item 0.0881271237465453\n",
       "\\item 0.00523791369050741\n",
       "\\item 0.245792514259431\n",
       "\\end{enumerate*}\n",
       "\n",
       "\\end{description}\n"
      ],
      "text/markdown": [
       "$a\n",
       ":   1. -19.3493731793174\n",
       "2. -15.3347399821994\n",
       "3. -0.897695887657003\n",
       "4. -8.78057444679395\n",
       "5. -3.219606901804\n",
       "6. 11.5196935010966\n",
       "7. -3.2089375719387\n",
       "8. -6.02864457022113\n",
       "\n",
       "\n",
       "\n",
       "$b\n",
       ":   1. 0.0551745568867773\n",
       "2. 0.0122717212630254\n",
       "3. 0.174871093432514\n",
       "4. 0.00721340463496745\n",
       "5. 0.0248694534302343\n",
       "6. 0.0451439746655524\n",
       "7. 0.138750192711339\n",
       "8. 0.0881271237465453\n",
       "9. 0.00523791369050741\n",
       "10. 0.245792514259431\n",
       "\n",
       "\n",
       "\n",
       "\n",
       "\n"
      ],
      "text/plain": [
       "$a\n",
       "[1] -19.3493732 -15.3347400  -0.8976959  -8.7805744  -3.2196069  11.5196935\n",
       "[7]  -3.2089376  -6.0286446\n",
       "\n",
       "$b\n",
       " [1] 0.055174557 0.012271721 0.174871093 0.007213405 0.024869453 0.045143975\n",
       " [7] 0.138750193 0.088127124 0.005237914 0.245792514\n"
      ]
     },
     "metadata": {},
     "output_type": "display_data"
    }
   ],
   "source": [
    "x <- list(a=rnorm(8,mean=1,sd=10),b=rexp(10,10.0))\n",
    "x"
   ]
  },
  {
   "cell_type": "code",
   "execution_count": 11,
   "metadata": {},
   "outputs": [
    {
     "data": {
      "text/html": [
       "'list'"
      ],
      "text/latex": [
       "'list'"
      ],
      "text/markdown": [
       "'list'"
      ],
      "text/plain": [
       "[1] \"list\""
      ]
     },
     "metadata": {},
     "output_type": "display_data"
    },
    {
     "data": {
      "text/html": [
       "<dl>\n",
       "\t<dt>$a</dt>\n",
       "\t\t<dd>-5.66248487985436</dd>\n",
       "\t<dt>$b</dt>\n",
       "\t\t<dd>0.0797451948720895</dd>\n",
       "</dl>\n"
      ],
      "text/latex": [
       "\\begin{description}\n",
       "\\item[\\$a] -5.66248487985436\n",
       "\\item[\\$b] 0.0797451948720895\n",
       "\\end{description}\n"
      ],
      "text/markdown": [
       "$a\n",
       ":   -5.66248487985436\n",
       "$b\n",
       ":   0.0797451948720895\n",
       "\n",
       "\n"
      ],
      "text/plain": [
       "$a\n",
       "[1] -5.662485\n",
       "\n",
       "$b\n",
       "[1] 0.07974519\n"
      ]
     },
     "metadata": {},
     "output_type": "display_data"
    }
   ],
   "source": [
    "val <- lapply(x,mean)\n",
    "typeof(val)\n",
    "val"
   ]
  },
  {
   "cell_type": "code",
   "execution_count": 12,
   "metadata": {},
   "outputs": [
    {
     "data": {
      "text/html": [
       "'double'"
      ],
      "text/latex": [
       "'double'"
      ],
      "text/markdown": [
       "'double'"
      ],
      "text/plain": [
       "[1] \"double\""
      ]
     },
     "metadata": {},
     "output_type": "display_data"
    },
    {
     "data": {
      "text/html": [
       "<dl class=dl-horizontal>\n",
       "\t<dt>a</dt>\n",
       "\t\t<dd>-5.66248487985436</dd>\n",
       "\t<dt>b</dt>\n",
       "\t\t<dd>0.0797451948720895</dd>\n",
       "</dl>\n"
      ],
      "text/latex": [
       "\\begin{description*}\n",
       "\\item[a] -5.66248487985436\n",
       "\\item[b] 0.0797451948720895\n",
       "\\end{description*}\n"
      ],
      "text/markdown": [
       "a\n",
       ":   -5.66248487985436b\n",
       ":   0.0797451948720895\n",
       "\n"
      ],
      "text/plain": [
       "          a           b \n",
       "-5.66248488  0.07974519 "
      ]
     },
     "metadata": {},
     "output_type": "display_data"
    }
   ],
   "source": [
    "val2 <- sapply(x,mean)\n",
    "typeof(val2)\n",
    "val2"
   ]
  },
  {
   "cell_type": "markdown",
   "metadata": {},
   "source": [
    "## 13.2.2 Operations By Factors"
   ]
  },
  {
   "cell_type": "code",
   "execution_count": 14,
   "metadata": {},
   "outputs": [
    {
     "data": {
      "text/html": [
       "<table>\n",
       "<thead><tr><th scope=col>a</th><th scope=col>b</th></tr></thead>\n",
       "<tbody>\n",
       "\t<tr><td> 1</td><td>a </td></tr>\n",
       "\t<tr><td> 2</td><td>a </td></tr>\n",
       "\t<tr><td>10</td><td>b </td></tr>\n",
       "\t<tr><td>20</td><td>b </td></tr>\n",
       "\t<tr><td> 5</td><td>a </td></tr>\n",
       "\t<tr><td>50</td><td>b </td></tr>\n",
       "</tbody>\n",
       "</table>\n"
      ],
      "text/latex": [
       "\\begin{tabular}{r|ll}\n",
       " a & b\\\\\n",
       "\\hline\n",
       "\t  1 & a \\\\\n",
       "\t  2 & a \\\\\n",
       "\t 10 & b \\\\\n",
       "\t 20 & b \\\\\n",
       "\t  5 & a \\\\\n",
       "\t 50 & b \\\\\n",
       "\\end{tabular}\n"
      ],
      "text/markdown": [
       "\n",
       "a | b | \n",
       "|---|---|---|---|---|---|\n",
       "|  1 | a  | \n",
       "|  2 | a  | \n",
       "| 10 | b  | \n",
       "| 20 | b  | \n",
       "|  5 | a  | \n",
       "| 50 | b  | \n",
       "\n",
       "\n"
      ],
      "text/plain": [
       "  a  b\n",
       "1  1 a\n",
       "2  2 a\n",
       "3 10 b\n",
       "4 20 b\n",
       "5  5 a\n",
       "6 50 b"
      ]
     },
     "metadata": {},
     "output_type": "display_data"
    }
   ],
   "source": [
    "val <- data.frame(a=c(1,2,10,20,5,50),\n",
    "                  b=as.factor(c(\"a\",\"a\",\"b\",\"b\",\"a\",\"b\")))\n",
    "val"
   ]
  },
  {
   "cell_type": "code",
   "execution_count": 16,
   "metadata": {},
   "outputs": [
    {
     "data": {
      "text/html": [
       "'double'"
      ],
      "text/latex": [
       "'double'"
      ],
      "text/markdown": [
       "'double'"
      ],
      "text/plain": [
       "[1] \"double\""
      ]
     },
     "metadata": {},
     "output_type": "display_data"
    },
    {
     "data": {
      "text/html": [
       "<dl class=dl-horizontal>\n",
       "\t<dt>a</dt>\n",
       "\t\t<dd>2.66666666666667</dd>\n",
       "\t<dt>b</dt>\n",
       "\t\t<dd>26.6666666666667</dd>\n",
       "</dl>\n"
      ],
      "text/plain": [
       "        a         b \n",
       " 2.666667 26.666667 "
      ]
     },
     "metadata": {},
     "output_type": "display_data"
    }
   ],
   "source": [
    "result <- tapply(val$a, val$b, mean)\n",
    "typeof(result)\n",
    "result"
   ]
  },
  {
   "cell_type": "code",
   "execution_count": 17,
   "metadata": {},
   "outputs": [
    {
     "data": {
      "text/html": [
       "'list'"
      ],
      "text/latex": [
       "'list'"
      ],
      "text/markdown": [
       "'list'"
      ],
      "text/plain": [
       "[1] \"list\""
      ]
     },
     "metadata": {},
     "output_type": "display_data"
    },
    {
     "data": {
      "text/plain": [
       "$a\n",
       "   Min. 1st Qu.  Median    Mean 3rd Qu.    Max. \n",
       "  1.000   1.500   2.000   2.667   3.500   5.000 \n",
       "\n",
       "$b\n",
       "   Min. 1st Qu.  Median    Mean 3rd Qu.    Max. \n",
       "  10.00   15.00   20.00   26.67   35.00   50.00 \n"
      ]
     },
     "metadata": {},
     "output_type": "display_data"
    }
   ],
   "source": [
    "result <- tapply(val$a,val$b,summary)\n",
    "typeof(result)\n",
    "result"
   ]
  }
 ],
 "metadata": {
  "kernelspec": {
   "display_name": "R",
   "language": "R",
   "name": "ir"
  },
  "language_info": {
   "codemirror_mode": "r",
   "file_extension": ".r",
   "mimetype": "text/x-r-source",
   "name": "R",
   "pygments_lexer": "r",
   "version": "3.4.2"
  }
 },
 "nbformat": 4,
 "nbformat_minor": 2
}

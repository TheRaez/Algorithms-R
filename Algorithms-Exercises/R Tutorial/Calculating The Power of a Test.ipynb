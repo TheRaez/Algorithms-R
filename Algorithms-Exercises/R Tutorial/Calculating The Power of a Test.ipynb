{
 "cells": [
  {
   "cell_type": "markdown",
   "metadata": {},
   "source": [
    "# 11.1 Calculating The Power Using a Normal Dis"
   ]
  },
  {
   "cell_type": "code",
   "execution_count": 1,
   "metadata": {
    "collapsed": true
   },
   "outputs": [],
   "source": [
    "a <- 5\n",
    "s <- 2\n",
    "n <- 20\n",
    "error <- qnorm(0.975)*s/sqrt(n)\n",
    "left <- a - error\n",
    "right <- a + error"
   ]
  },
  {
   "cell_type": "code",
   "execution_count": 8,
   "metadata": {},
   "outputs": [
    {
     "data": {
      "text/html": [
       "0.0816379171744822"
      ],
      "text/latex": [
       "0.0816379171744822"
      ],
      "text/markdown": [
       "0.0816379171744822"
      ],
      "text/plain": [
       "[1] 0.08163792"
      ]
     },
     "metadata": {},
     "output_type": "display_data"
    }
   ],
   "source": [
    "assumed <- a + 1.5\n",
    "Zleft <- (left-assumed) / (s/sqrt(n))\n",
    "Zright <- (right-assumed)/(s/sqrt(n))\n",
    "p <- pnorm(Zright)-pnorm(Zleft)\n",
    "p"
   ]
  },
  {
   "cell_type": "code",
   "execution_count": 9,
   "metadata": {},
   "outputs": [
    {
     "data": {
      "text/html": [
       "0.918362082825518"
      ],
      "text/latex": [
       "0.918362082825518"
      ],
      "text/markdown": [
       "0.918362082825518"
      ],
      "text/plain": [
       "[1] 0.9183621"
      ]
     },
     "metadata": {},
     "output_type": "display_data"
    }
   ],
   "source": [
    "1-p"
   ]
  },
  {
   "cell_type": "markdown",
   "metadata": {},
   "source": [
    "# 11.2 Calculating The Power Using a t Distribution"
   ]
  },
  {
   "cell_type": "code",
   "execution_count": 10,
   "metadata": {
    "collapsed": true
   },
   "outputs": [],
   "source": [
    "a <- 5\n",
    "s <- 2\n",
    "n <- 20\n",
    "error <- qt(0.975,df=n-1)*s/sqrt(n)\n",
    "left <- a - error\n",
    "right <- a + error"
   ]
  },
  {
   "cell_type": "code",
   "execution_count": 11,
   "metadata": {},
   "outputs": [
    {
     "data": {
      "text/html": [
       "0.111258259920483"
      ],
      "text/latex": [
       "0.111258259920483"
      ],
      "text/markdown": [
       "0.111258259920483"
      ],
      "text/plain": [
       "[1] 0.1112583"
      ]
     },
     "metadata": {},
     "output_type": "display_data"
    }
   ],
   "source": [
    "assumed <- a + 1.5\n",
    "tleft <- (left-assumed)/(s/sqrt(n))\n",
    "tright <- (right-assumed)/(s/sqrt(n))\n",
    "p <- pt(tright, df=n-1) - pt(tleft, df=n-1)\n",
    "p"
   ]
  },
  {
   "cell_type": "code",
   "execution_count": 14,
   "metadata": {},
   "outputs": [
    {
     "data": {
      "text/html": [
       "0.888741740079517"
      ],
      "text/latex": [
       "0.888741740079517"
      ],
      "text/markdown": [
       "0.888741740079517"
      ],
      "text/plain": [
       "[1] 0.8887417"
      ]
     },
     "metadata": {},
     "output_type": "display_data"
    }
   ],
   "source": [
    "1-p"
   ]
  },
  {
   "cell_type": "markdown",
   "metadata": {},
   "source": [
    "###### Alternative Method"
   ]
  },
  {
   "cell_type": "code",
   "execution_count": 16,
   "metadata": {},
   "outputs": [
    {
     "data": {
      "text/html": [
       "0.111152182599902"
      ],
      "text/latex": [
       "0.111152182599902"
      ],
      "text/markdown": [
       "0.111152182599902"
      ],
      "text/plain": [
       "[1] 0.1111522"
      ]
     },
     "metadata": {},
     "output_type": "display_data"
    },
    {
     "data": {
      "text/html": [
       "0.888847817400098"
      ],
      "text/latex": [
       "0.888847817400098"
      ],
      "text/markdown": [
       "0.888847817400098"
      ],
      "text/plain": [
       "[1] 0.8888478"
      ]
     },
     "metadata": {},
     "output_type": "display_data"
    }
   ],
   "source": [
    "ncp <- 1.5/(s/sqrt(n))\n",
    "t <- qt(0.975, df=n-1)\n",
    "pt(t,df=n-1,ncp=ncp)-pt(-t,df=n-1,ncp=ncp)\n",
    "1-(pt(t,df=n-1,ncp=ncp)-pt(-t,df=n-1,ncp=ncp))"
   ]
  },
  {
   "cell_type": "code",
   "execution_count": 19,
   "metadata": {},
   "outputs": [
    {
     "data": {
      "text/plain": [
       "\n",
       "     One-sample t test power calculation \n",
       "\n",
       "              n = 20\n",
       "          delta = 1.5\n",
       "             sd = 2\n",
       "      sig.level = 0.05\n",
       "          power = 0.8888478\n",
       "    alternative = two.sided\n"
      ]
     },
     "metadata": {},
     "output_type": "display_data"
    }
   ],
   "source": [
    "power.t.test(n=n, delta=1.5, sd=s, sig.level=0.05, type=\"one.sample\",\n",
    "             alternative=\"two.sided\", strict=TRUE)"
   ]
  },
  {
   "cell_type": "code",
   "execution_count": 20,
   "metadata": {
    "collapsed": true
   },
   "outputs": [],
   "source": [
    "help(power.t.test)"
   ]
  },
  {
   "cell_type": "markdown",
   "metadata": {},
   "source": [
    "# 11.3 Calculating Many Powers From a t Distribution"
   ]
  },
  {
   "cell_type": "code",
   "execution_count": 21,
   "metadata": {
    "collapsed": true
   },
   "outputs": [],
   "source": [
    "m1 <- c(10,12,30)\n",
    "m2 <- c(10.5,13,28.5)\n",
    "sd1 <- c(3,4,4.5)\n",
    "sd2 <- c(2.5,5.3,3)\n",
    "num1 <- c(300,210,420)\n",
    "num2 <- c(230,340,400)\n",
    "se <- sqrt(sd1*sd1/num1+sd2*sd2/num2)"
   ]
  },
  {
   "cell_type": "code",
   "execution_count": 22,
   "metadata": {},
   "outputs": [
    {
     "data": {
      "text/html": [
       "<ol class=list-inline>\n",
       "\t<li>-0.471138234575807</li>\n",
       "\t<li>-0.785609242774234</li>\n",
       "\t<li>-0.522782489016931</li>\n",
       "</ol>\n"
      ],
      "text/latex": [
       "\\begin{enumerate*}\n",
       "\\item -0.471138234575807\n",
       "\\item -0.785609242774234\n",
       "\\item -0.522782489016931\n",
       "\\end{enumerate*}\n"
      ],
      "text/markdown": [
       "1. -0.471138234575807\n",
       "2. -0.785609242774234\n",
       "3. -0.522782489016931\n",
       "\n",
       "\n"
      ],
      "text/plain": [
       "[1] -0.4711382 -0.7856092 -0.5227825"
      ]
     },
     "metadata": {},
     "output_type": "display_data"
    },
    {
     "data": {
      "text/html": [
       "<ol class=list-inline>\n",
       "\t<li>0.471138234575807</li>\n",
       "\t<li>0.785609242774234</li>\n",
       "\t<li>0.522782489016931</li>\n",
       "</ol>\n"
      ],
      "text/latex": [
       "\\begin{enumerate*}\n",
       "\\item 0.471138234575807\n",
       "\\item 0.785609242774234\n",
       "\\item 0.522782489016931\n",
       "\\end{enumerate*}\n"
      ],
      "text/markdown": [
       "1. 0.471138234575807\n",
       "2. 0.785609242774234\n",
       "3. 0.522782489016931\n",
       "\n",
       "\n"
      ],
      "text/plain": [
       "[1] 0.4711382 0.7856092 0.5227825"
      ]
     },
     "metadata": {},
     "output_type": "display_data"
    }
   ],
   "source": [
    "left <- qt(0.025, df=pmin(num1,num2)-1)*se\n",
    "right <- -left\n",
    "left\n",
    "right"
   ]
  },
  {
   "cell_type": "code",
   "execution_count": 23,
   "metadata": {},
   "outputs": [
    {
     "data": {
      "text/html": [
       "<ol class=list-inline>\n",
       "\t<li>0.0139847932730361</li>\n",
       "\t<li>0.29558011299891</li>\n",
       "\t<li>0.0367387464474893</li>\n",
       "</ol>\n"
      ],
      "text/latex": [
       "\\begin{enumerate*}\n",
       "\\item 0.0139847932730361\n",
       "\\item 0.29558011299891\n",
       "\\item 0.0367387464474893\n",
       "\\end{enumerate*}\n"
      ],
      "text/markdown": [
       "1. 0.0139847932730361\n",
       "2. 0.29558011299891\n",
       "3. 0.0367387464474893\n",
       "\n",
       "\n"
      ],
      "text/plain": [
       "[1] 0.01398479 0.29558011 0.03673875"
      ]
     },
     "metadata": {},
     "output_type": "display_data"
    },
    {
     "data": {
      "text/html": [
       "<ol class=list-inline>\n",
       "\t<li>0.986015206726964</li>\n",
       "\t<li>0.70441988700109</li>\n",
       "\t<li>0.963261253552511</li>\n",
       "</ol>\n"
      ],
      "text/latex": [
       "\\begin{enumerate*}\n",
       "\\item 0.986015206726964\n",
       "\\item 0.70441988700109\n",
       "\\item 0.963261253552511\n",
       "\\end{enumerate*}\n"
      ],
      "text/markdown": [
       "1. 0.986015206726964\n",
       "2. 0.70441988700109\n",
       "3. 0.963261253552511\n",
       "\n",
       "\n"
      ],
      "text/plain": [
       "[1] 0.9860152 0.7044199 0.9632613"
      ]
     },
     "metadata": {},
     "output_type": "display_data"
    }
   ],
   "source": [
    "tl <- (left-1)/se\n",
    "tr <- (right-1)/se\n",
    "probII <- pt(tr,df=pmin(num1,num2)-1)\n",
    "probII\n",
    "power <- 1 - probII\n",
    "power"
   ]
  },
  {
   "cell_type": "code",
   "execution_count": 25,
   "metadata": {},
   "outputs": [
    {
     "data": {
      "text/html": [
       "<ol class=list-inline>\n",
       "\t<li>1.97037728332615</li>\n",
       "\t<li>1.97137946154754</li>\n",
       "\t<li>1.96592729592088</li>\n",
       "</ol>\n"
      ],
      "text/latex": [
       "\\begin{enumerate*}\n",
       "\\item 1.97037728332615\n",
       "\\item 1.97137946154754\n",
       "\\item 1.96592729592088\n",
       "\\end{enumerate*}\n"
      ],
      "text/markdown": [
       "1. 1.97037728332615\n",
       "2. 1.97137946154754\n",
       "3. 1.96592729592088\n",
       "\n",
       "\n"
      ],
      "text/plain": [
       "[1] 1.970377 1.971379 1.965927"
      ]
     },
     "metadata": {},
     "output_type": "display_data"
    },
    {
     "data": {
      "text/html": [
       "<ol class=list-inline>\n",
       "\t<li>0.0137411212164882</li>\n",
       "\t<li>0.295334545242965</li>\n",
       "\t<li>0.0366084167451929</li>\n",
       "</ol>\n"
      ],
      "text/latex": [
       "\\begin{enumerate*}\n",
       "\\item 0.0137411212164882\n",
       "\\item 0.295334545242965\n",
       "\\item 0.0366084167451929\n",
       "\\end{enumerate*}\n"
      ],
      "text/markdown": [
       "1. 0.0137411212164882\n",
       "2. 0.295334545242965\n",
       "3. 0.0366084167451929\n",
       "\n",
       "\n"
      ],
      "text/plain": [
       "[1] 0.01374112 0.29533455 0.03660842"
      ]
     },
     "metadata": {},
     "output_type": "display_data"
    },
    {
     "data": {
      "text/html": [
       "<ol class=list-inline>\n",
       "\t<li>0.986258878783512</li>\n",
       "\t<li>0.704665454757035</li>\n",
       "\t<li>0.963391583254807</li>\n",
       "</ol>\n"
      ],
      "text/latex": [
       "\\begin{enumerate*}\n",
       "\\item 0.986258878783512\n",
       "\\item 0.704665454757035\n",
       "\\item 0.963391583254807\n",
       "\\end{enumerate*}\n"
      ],
      "text/markdown": [
       "1. 0.986258878783512\n",
       "2. 0.704665454757035\n",
       "3. 0.963391583254807\n",
       "\n",
       "\n"
      ],
      "text/plain": [
       "[1] 0.9862589 0.7046655 0.9633916"
      ]
     },
     "metadata": {},
     "output_type": "display_data"
    }
   ],
   "source": [
    "t <- qt(0.975,df=pmin(num1,num2)-1)\n",
    "t\n",
    "ncp <- (1)/se\n",
    "pt(t,df=pmin(num1,num2)-1,ncp=ncp)-pt(-t,df=pmin(num1,num2)-1,ncp=ncp)\n",
    "1-(pt(t,df=pmin(num1,num2)-1,ncp=ncp)-pt(-t,df=pmin(num1,num2)-1,ncp=ncp))"
   ]
  }
 ],
 "metadata": {
  "kernelspec": {
   "display_name": "R",
   "language": "R",
   "name": "ir"
  },
  "language_info": {
   "codemirror_mode": "r",
   "file_extension": ".r",
   "mimetype": "text/x-r-source",
   "name": "R",
   "pygments_lexer": "r",
   "version": "3.4.2"
  }
 },
 "nbformat": 4,
 "nbformat_minor": 2
}

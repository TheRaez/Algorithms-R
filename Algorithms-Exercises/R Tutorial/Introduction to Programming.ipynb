{
 "cells": [
  {
   "cell_type": "markdown",
   "metadata": {},
   "source": [
    "# 15.1 Executing a file"
   ]
  },
  {
   "cell_type": "code",
   "execution_count": 1,
   "metadata": {
    "collapsed": true
   },
   "outputs": [],
   "source": [
    "help(Control)"
   ]
  },
  {
   "cell_type": "markdown",
   "metadata": {},
   "source": [
    "## 15.1.1 Executing the commands in a File"
   ]
  },
  {
   "cell_type": "code",
   "execution_count": 3,
   "metadata": {},
   "outputs": [],
   "source": [
    "help(source)\n",
    "# source('file.R')"
   ]
  },
  {
   "cell_type": "code",
   "execution_count": 4,
   "metadata": {},
   "outputs": [
    {
     "name": "stdout",
     "output_type": "stream",
     "text": [
      "The mean of x is  -0.1356226 \n",
      "The summary of x is \n",
      " -1.882544 -0.8232273 -0.1684258 -0.1356226 0.22863 1.44281 \n",
      "   Min. 1st Qu.  Median    Mean 3rd Qu.    Max. \n",
      "-1.8825 -0.8232 -0.1684 -0.1356  0.2286  1.4428 \n"
     ]
    }
   ],
   "source": [
    "source('simpleEx.R')"
   ]
  },
  {
   "cell_type": "code",
   "execution_count": 5,
   "metadata": {},
   "outputs": [
    {
     "name": "stdout",
     "output_type": "stream",
     "text": [
      "\n",
      "> x <- rnorm(10)\n",
      "\n",
      "> mux = mean(x)\n",
      "\n",
      "> cat(\"The mean of x is \", mean(x), \"\\n\")\n",
      "The mean of x is  0.715528 \n",
      "\n",
      "> summary(x)\n",
      "   Min. 1st Qu.  Median    Mean 3rd Qu.    Max. \n",
      "-1.0582 -0.1321  0.3975  0.7155  1.6427  2.9107 \n",
      "\n",
      "> cat(\"The summary of x is \\n\", summary(x), \"\\n\")\n",
      "The summary of x is \n",
      " -1.058243 -0.1320533 0.3975454 0.715528 1.642705 2.910734 \n",
      "\n",
      "> print(summary(x))\n",
      "   Min. 1st Qu.  Median    Mean 3rd Qu.    Max. \n",
      "-1.0582 -0.1321  0.3975  0.7155  1.6427  2.9107 \n"
     ]
    }
   ],
   "source": [
    "source('simpleEx.R',echo=TRUE)"
   ]
  },
  {
   "cell_type": "code",
   "execution_count": 6,
   "metadata": {},
   "outputs": [
    {
     "name": "stdout",
     "output_type": "stream",
     "text": [
      "The mean of x is  0.2261505 \n",
      "   Min. 1st Qu.  Median    Mean 3rd Qu.    Max. \n",
      "-1.7480 -0.7287 -0.1492  0.2262  1.4016  2.5292 \n",
      "The summary of x is \n",
      " -1.747969 -0.7287028 -0.1491997 0.2261505 1.40158 2.529204 \n",
      "   Min. 1st Qu.  Median    Mean 3rd Qu.    Max. \n",
      "-1.7480 -0.7287 -0.1492  0.2262  1.4016  2.5292 \n"
     ]
    }
   ],
   "source": [
    "source('simpleEx.R',print.eval=TRUE)"
   ]
  },
  {
   "cell_type": "code",
   "execution_count": 7,
   "metadata": {},
   "outputs": [
    {
     "name": "stdout",
     "output_type": "stream",
     "text": [
      "The mean of x is  0.400889 \n",
      "The summary of x is \n",
      " -1.508594 -0.1870531 0.2374054 0.400889 0.895529 2.495061 \n",
      "   Min. 1st Qu.  Median    Mean 3rd Qu.    Max. \n",
      "-1.5086 -0.1871  0.2374  0.4009  0.8955  2.4951 \n"
     ]
    }
   ],
   "source": [
    "source('simpleEx.R',print.eval=FALSE)"
   ]
  },
  {
   "cell_type": "code",
   "execution_count": 8,
   "metadata": {},
   "outputs": [
    {
     "name": "stdout",
     "output_type": "stream",
     "text": [
      "'envir' chosen:<environment: R_GlobalEnv>\n",
      "encoding = \"native.enc\" chosen\n",
      "--> parsed 6 expressions; now eval(.)ing them:\n",
      "\n",
      ">>>> eval(expression_nr. 1 )\n",
      "\t\t =================\n",
      "\n",
      "> x <- rnorm(10)\n",
      "curr.fun: symbol <-\n",
      " .. after 'expression(x <- rnorm(10))'\n",
      "\n",
      ">>>> eval(expression_nr. 2 )\n",
      "\t\t =================\n",
      "\n",
      "> mux = mean(x)\n",
      "curr.fun: symbol =\n",
      " .. after 'expression(mux = mean(x))'\n",
      "\n",
      ">>>> eval(expression_nr. 3 )\n",
      "\t\t =================\n",
      "\n",
      "> cat(\"The mean of x is \", mean(x), \"\\n\")\n",
      "The mean of x is  -0.5765175 \n",
      "curr.fun: symbol cat\n",
      " .. after 'expression(cat(\"The mean of x is \", mean(x), \"\\n\"))'\n",
      "\n",
      ">>>> eval(expression_nr. 4 )\n",
      "\t\t =================\n",
      "\n",
      "> summary(x)\n",
      "curr.fun: symbol summary\n",
      "   Min. 1st Qu.  Median    Mean 3rd Qu.    Max. \n",
      "-1.7413 -1.4032 -0.9128 -0.5765  0.4571  0.7995 \n",
      " .. after 'expression(summary(x))'\n",
      "\n",
      ">>>> eval(expression_nr. 5 )\n",
      "\t\t =================\n",
      "\n",
      "> cat(\"The summary of x is \\n\", summary(x), \"\\n\")\n",
      "The summary of x is \n",
      " -1.741347 -1.403245 -0.9128336 -0.5765175 0.4570975 0.7995018 \n",
      "curr.fun: symbol cat\n",
      " .. after 'expression(cat(\"The summary of x is \\n\", summary(x), \"\\n\"))'\n",
      "\n",
      ">>>> eval(expression_nr. 6 )\n",
      "\t\t =================\n",
      "\n",
      "> print(summary(x))\n",
      "   Min. 1st Qu.  Median    Mean 3rd Qu.    Max. \n",
      "-1.7413 -1.4032 -0.9128 -0.5765  0.4571  0.7995 \n",
      "curr.fun: symbol print\n",
      " .. after 'expression(print(summary(x)))'\n"
     ]
    }
   ],
   "source": [
    "source('simpleEx.R',verbose=TRUE)"
   ]
  },
  {
   "cell_type": "code",
   "execution_count": 9,
   "metadata": {},
   "outputs": [
    {
     "name": "stderr",
     "output_type": "stream",
     "text": [
      "Warning message in file(filename, \"r\", encoding = encoding):\n",
      "\"no fue posible abrir el archivo 'notThere.R': No such file or directory\""
     ]
    },
    {
     "ename": "ERROR",
     "evalue": "Error in file(filename, \"r\", encoding = encoding): no se puede abrir la conexión\n",
     "output_type": "error",
     "traceback": [
      "Error in file(filename, \"r\", encoding = encoding): no se puede abrir la conexión\nTraceback:\n",
      "1. source(\"notThere.R\")",
      "2. file(filename, \"r\", encoding = encoding)"
     ]
    }
   ],
   "source": [
    "source('notThere.R')"
   ]
  },
  {
   "cell_type": "code",
   "execution_count": 10,
   "metadata": {},
   "outputs": [
    {
     "data": {
      "text/html": [
       "'C:/Users/pablo/Algorithms-R/Algorithms-Exercises/R Tutorial'"
      ],
      "text/latex": [
       "'C:/Users/pablo/Algorithms-R/Algorithms-Exercises/R Tutorial'"
      ],
      "text/markdown": [
       "'C:/Users/pablo/Algorithms-R/Algorithms-Exercises/R Tutorial'"
      ],
      "text/plain": [
       "[1] \"C:/Users/pablo/Algorithms-R/Algorithms-Exercises/R Tutorial\""
      ]
     },
     "metadata": {},
     "output_type": "display_data"
    },
    {
     "data": {
      "text/html": [
       "<ol class=list-inline>\n",
       "\t<li>'Basic Data Types.ipynb'</li>\n",
       "\t<li>'Basic Operations and Numerical Descriptions.ipynb'</li>\n",
       "\t<li>'Basic Plots.ipynb'</li>\n",
       "\t<li>'Basic Probability Distributions.ipynb'</li>\n",
       "\t<li>'Calculating Confidence Intervals.ipynb'</li>\n",
       "\t<li>'Calculating p Values.ipynb'</li>\n",
       "\t<li>'Calculating The Power of a Test.ipynb'</li>\n",
       "\t<li>'Data Management.ipynb'</li>\n",
       "\t<li>'hist.png'</li>\n",
       "\t<li>'Indexing Into Vectors.ipynb'</li>\n",
       "\t<li>'Input.ipynb'</li>\n",
       "\t<li>'Intermediate Plotting.ipynb'</li>\n",
       "\t<li>'Introduction to Programming.ipynb'</li>\n",
       "\t<li>'Linear Least Squares Regression.ipynb'</li>\n",
       "\t<li>'simple.csv'</li>\n",
       "\t<li>'simpleEx.R'</li>\n",
       "\t<li>'smoker.csv'</li>\n",
       "\t<li>'Time Data Types.ipynb'</li>\n",
       "\t<li>'trees91.csv'</li>\n",
       "\t<li>'Two Way Tables.ipynb'</li>\n",
       "\t<li>'w1.dat'</li>\n",
       "</ol>\n"
      ],
      "text/latex": [
       "\\begin{enumerate*}\n",
       "\\item 'Basic Data Types.ipynb'\n",
       "\\item 'Basic Operations and Numerical Descriptions.ipynb'\n",
       "\\item 'Basic Plots.ipynb'\n",
       "\\item 'Basic Probability Distributions.ipynb'\n",
       "\\item 'Calculating Confidence Intervals.ipynb'\n",
       "\\item 'Calculating p Values.ipynb'\n",
       "\\item 'Calculating The Power of a Test.ipynb'\n",
       "\\item 'Data Management.ipynb'\n",
       "\\item 'hist.png'\n",
       "\\item 'Indexing Into Vectors.ipynb'\n",
       "\\item 'Input.ipynb'\n",
       "\\item 'Intermediate Plotting.ipynb'\n",
       "\\item 'Introduction to Programming.ipynb'\n",
       "\\item 'Linear Least Squares Regression.ipynb'\n",
       "\\item 'simple.csv'\n",
       "\\item 'simpleEx.R'\n",
       "\\item 'smoker.csv'\n",
       "\\item 'Time Data Types.ipynb'\n",
       "\\item 'trees91.csv'\n",
       "\\item 'Two Way Tables.ipynb'\n",
       "\\item 'w1.dat'\n",
       "\\end{enumerate*}\n"
      ],
      "text/markdown": [
       "1. 'Basic Data Types.ipynb'\n",
       "2. 'Basic Operations and Numerical Descriptions.ipynb'\n",
       "3. 'Basic Plots.ipynb'\n",
       "4. 'Basic Probability Distributions.ipynb'\n",
       "5. 'Calculating Confidence Intervals.ipynb'\n",
       "6. 'Calculating p Values.ipynb'\n",
       "7. 'Calculating The Power of a Test.ipynb'\n",
       "8. 'Data Management.ipynb'\n",
       "9. 'hist.png'\n",
       "10. 'Indexing Into Vectors.ipynb'\n",
       "11. 'Input.ipynb'\n",
       "12. 'Intermediate Plotting.ipynb'\n",
       "13. 'Introduction to Programming.ipynb'\n",
       "14. 'Linear Least Squares Regression.ipynb'\n",
       "15. 'simple.csv'\n",
       "16. 'simpleEx.R'\n",
       "17. 'smoker.csv'\n",
       "18. 'Time Data Types.ipynb'\n",
       "19. 'trees91.csv'\n",
       "20. 'Two Way Tables.ipynb'\n",
       "21. 'w1.dat'\n",
       "\n",
       "\n"
      ],
      "text/plain": [
       " [1] \"Basic Data Types.ipynb\"                           \n",
       " [2] \"Basic Operations and Numerical Descriptions.ipynb\"\n",
       " [3] \"Basic Plots.ipynb\"                                \n",
       " [4] \"Basic Probability Distributions.ipynb\"            \n",
       " [5] \"Calculating Confidence Intervals.ipynb\"           \n",
       " [6] \"Calculating p Values.ipynb\"                       \n",
       " [7] \"Calculating The Power of a Test.ipynb\"            \n",
       " [8] \"Data Management.ipynb\"                            \n",
       " [9] \"hist.png\"                                         \n",
       "[10] \"Indexing Into Vectors.ipynb\"                      \n",
       "[11] \"Input.ipynb\"                                      \n",
       "[12] \"Intermediate Plotting.ipynb\"                      \n",
       "[13] \"Introduction to Programming.ipynb\"                \n",
       "[14] \"Linear Least Squares Regression.ipynb\"            \n",
       "[15] \"simple.csv\"                                       \n",
       "[16] \"simpleEx.R\"                                       \n",
       "[17] \"smoker.csv\"                                       \n",
       "[18] \"Time Data Types.ipynb\"                            \n",
       "[19] \"trees91.csv\"                                      \n",
       "[20] \"Two Way Tables.ipynb\"                             \n",
       "[21] \"w1.dat\"                                           "
      ]
     },
     "metadata": {},
     "output_type": "display_data"
    }
   ],
   "source": [
    "getwd()\n",
    "dir()"
   ]
  },
  {
   "cell_type": "markdown",
   "metadata": {},
   "source": [
    "## 15.1.2 if statements"
   ]
  },
  {
   "cell_type": "code",
   "execution_count": 11,
   "metadata": {},
   "outputs": [
    {
     "name": "stdout",
     "output_type": "stream",
     "text": [
      "increment that number!\n"
     ]
    },
    {
     "data": {
      "text/html": [
       "1.1"
      ],
      "text/latex": [
       "1.1"
      ],
      "text/markdown": [
       "1.1"
      ],
      "text/plain": [
       "[1] 1.1"
      ]
     },
     "metadata": {},
     "output_type": "display_data"
    }
   ],
   "source": [
    "x = 0.1\n",
    "if( x < 0.2)\n",
    "{\n",
    "   x <- x + 1\n",
    "   cat(\"increment that number!\\n\")\n",
    "}\n",
    "x"
   ]
  },
  {
   "cell_type": "code",
   "execution_count": 12,
   "metadata": {},
   "outputs": [
    {
     "name": "stdout",
     "output_type": "stream",
     "text": [
      "nah, make it smaller.\n"
     ]
    },
    {
     "data": {
      "text/html": [
       "1"
      ],
      "text/latex": [
       "1"
      ],
      "text/markdown": [
       "1"
      ],
      "text/plain": [
       "[1] 1"
      ]
     },
     "metadata": {},
     "output_type": "display_data"
    }
   ],
   "source": [
    "x = 2.0\n",
    "if ( x < 0.2)\n",
    "{\n",
    "   x <- x + 1\n",
    "   cat(\"increment that number!\\n\")\n",
    "} else\n",
    "{\n",
    "   x <- x - 1\n",
    "   cat(\"nah, make it smaller.\\n\");\n",
    "}\n",
    "x"
   ]
  },
  {
   "cell_type": "markdown",
   "metadata": {},
   "source": [
    "## 15.1.3 for statements"
   ]
  },
  {
   "cell_type": "code",
   "execution_count": 14,
   "metadata": {},
   "outputs": [
    {
     "name": "stdout",
     "output_type": "stream",
     "text": [
      "0 \n",
      "0.3 \n",
      "0.6 \n",
      "0.9 \n"
     ]
    }
   ],
   "source": [
    "for (lupe in seq(0,1,by=0.3))\n",
    "{\n",
    "    cat(lupe,\"\\n\");\n",
    "}"
   ]
  },
  {
   "cell_type": "code",
   "execution_count": 15,
   "metadata": {},
   "outputs": [
    {
     "name": "stdout",
     "output_type": "stream",
     "text": [
      "value of loop:  1 \n",
      "value of loop:  2 \n",
      "value of loop:  4 \n",
      "value of loop:  8 \n",
      "value of loop:  16 \n"
     ]
    }
   ],
   "source": [
    "x <- c(1,2,4,8,16)\n",
    "for (loop in x)\n",
    "{\n",
    "    cat(\"value of loop: \",loop,\"\\n\");\n",
    "}"
   ]
  },
  {
   "cell_type": "markdown",
   "metadata": {},
   "source": [
    "## 15.1.4 while statements"
   ]
  },
  {
   "cell_type": "code",
   "execution_count": 17,
   "metadata": {},
   "outputs": [
    {
     "name": "stdout",
     "output_type": "stream",
     "text": [
      "trying this value:  7.871719  ( 1  times in loop)\n"
     ]
    }
   ],
   "source": [
    "lupe <- 1;\n",
    "x <- 1\n",
    "while(x < 4)\n",
    "{\n",
    "   x <- rnorm(1,mean=2,sd=3)\n",
    "   cat(\"trying this value: \",x,\" (\",lupe,\" times in loop)\\n\");\n",
    "   lupe <- lupe + 1\n",
    "}"
   ]
  },
  {
   "cell_type": "markdown",
   "metadata": {},
   "source": [
    "## 15.1.5 repeat statements"
   ]
  },
  {
   "cell_type": "code",
   "execution_count": 18,
   "metadata": {},
   "outputs": [
    {
     "data": {
      "text/html": [
       "-2.05163645208465"
      ],
      "text/latex": [
       "-2.05163645208465"
      ],
      "text/markdown": [
       "-2.05163645208465"
      ],
      "text/plain": [
       "[1] -2.051636"
      ]
     },
     "metadata": {},
     "output_type": "display_data"
    }
   ],
   "source": [
    "repeat\n",
    "{\n",
    "    x <- rnorm(1)\n",
    "    if(x < -2.0) break\n",
    "}\n",
    "x"
   ]
  },
  {
   "cell_type": "markdown",
   "metadata": {},
   "source": [
    "## 15.1.6 break and next statements"
   ]
  },
  {
   "cell_type": "code",
   "execution_count": 20,
   "metadata": {},
   "outputs": [
    {
     "data": {
      "text/html": [
       "<ol class=list-inline>\n",
       "\t<li>0.349102443645181</li>\n",
       "\t<li>0.701942921698723</li>\n",
       "\t<li>0.0475903136006545</li>\n",
       "\t<li>-0.812462355038012</li>\n",
       "\t<li>-0.391637496383643</li>\n",
       "</ol>\n"
      ],
      "text/latex": [
       "\\begin{enumerate*}\n",
       "\\item 0.349102443645181\n",
       "\\item 0.701942921698723\n",
       "\\item 0.0475903136006545\n",
       "\\item -0.812462355038012\n",
       "\\item -0.391637496383643\n",
       "\\end{enumerate*}\n"
      ],
      "text/markdown": [
       "1. 0.349102443645181\n",
       "2. 0.701942921698723\n",
       "3. 0.0475903136006545\n",
       "4. -0.812462355038012\n",
       "5. -0.391637496383643\n",
       "\n",
       "\n"
      ],
      "text/plain": [
       "[1]  0.34910244  0.70194292  0.04759031 -0.81246236 -0.39163750"
      ]
     },
     "metadata": {},
     "output_type": "display_data"
    }
   ],
   "source": [
    "x <- rnorm(5)\n",
    "x"
   ]
  },
  {
   "cell_type": "code",
   "execution_count": 21,
   "metadata": {},
   "outputs": [
    {
     "name": "stdout",
     "output_type": "stream",
     "text": [
      "The value of lupe is  0.3491024 \n",
      "The value of lupe is  0.7019429 \n",
      "The value of lupe is  0.04759031 \n",
      "The value of lupe is  -0.8124624 \n",
      "The value of lupe is  -0.3916375 \n"
     ]
    }
   ],
   "source": [
    "for(lupe in x)\n",
    "{\n",
    "    if (lupe > 2.0)\n",
    "        next\n",
    "     if( (lupe<0.6) && (lupe > 0.5))\n",
    "       break\n",
    "    cat(\"The value of lupe is \",lupe,\"\\n\");\n",
    "}"
   ]
  },
  {
   "cell_type": "markdown",
   "metadata": {},
   "source": [
    "## 15.1.7 switch statement"
   ]
  },
  {
   "cell_type": "code",
   "execution_count": 22,
   "metadata": {},
   "outputs": [
    {
     "data": {
      "text/html": [
       "2"
      ],
      "text/latex": [
       "2"
      ],
      "text/markdown": [
       "2"
      ],
      "text/plain": [
       "[1] 2"
      ]
     },
     "metadata": {},
     "output_type": "display_data"
    }
   ],
   "source": [
    "x <- as.integer(2)\n",
    "x"
   ]
  },
  {
   "cell_type": "code",
   "execution_count": 23,
   "metadata": {},
   "outputs": [
    {
     "data": {
      "text/html": [
       "2"
      ],
      "text/latex": [
       "2"
      ],
      "text/markdown": [
       "2"
      ],
      "text/plain": [
       "[1] 2"
      ]
     },
     "metadata": {},
     "output_type": "display_data"
    }
   ],
   "source": [
    "z = switch(x,1,2,3,4,5)\n",
    "z"
   ]
  },
  {
   "cell_type": "code",
   "execution_count": 24,
   "metadata": {},
   "outputs": [
    {
     "data": {
      "text/html": [
       "3"
      ],
      "text/latex": [
       "3"
      ],
      "text/markdown": [
       "3"
      ],
      "text/plain": [
       "[1] 3"
      ]
     },
     "metadata": {},
     "output_type": "display_data"
    }
   ],
   "source": [
    "x <- 3.5\n",
    "z = switch(x,1,2,3,4,5)\n",
    "z"
   ]
  },
  {
   "cell_type": "code",
   "execution_count": 25,
   "metadata": {},
   "outputs": [
    {
     "data": {
      "text/html": [
       "<ol class=list-inline>\n",
       "\t<li>-0.0928112601560884</li>\n",
       "\t<li>-0.716622501631754</li>\n",
       "\t<li>-1.55113927383759</li>\n",
       "\t<li>0.495429878123531</li>\n",
       "\t<li>-0.573365789337731</li>\n",
       "</ol>\n"
      ],
      "text/latex": [
       "\\begin{enumerate*}\n",
       "\\item -0.0928112601560884\n",
       "\\item -0.716622501631754\n",
       "\\item -1.55113927383759\n",
       "\\item 0.495429878123531\n",
       "\\item -0.573365789337731\n",
       "\\end{enumerate*}\n"
      ],
      "text/markdown": [
       "1. -0.0928112601560884\n",
       "2. -0.716622501631754\n",
       "3. -1.55113927383759\n",
       "4. 0.495429878123531\n",
       "5. -0.573365789337731\n",
       "\n",
       "\n"
      ],
      "text/plain": [
       "[1] -0.09281126 -0.71662250 -1.55113927  0.49542988 -0.57336579"
      ]
     },
     "metadata": {},
     "output_type": "display_data"
    },
    {
     "data": {
      "text/html": [
       "0.760448667310146"
      ],
      "text/latex": [
       "0.760448667310146"
      ],
      "text/markdown": [
       "0.760448667310146"
      ],
      "text/plain": [
       "[1] 0.7604487"
      ]
     },
     "metadata": {},
     "output_type": "display_data"
    },
    {
     "data": {
      "text/html": [
       "-0.573365789337731"
      ],
      "text/latex": [
       "-0.573365789337731"
      ],
      "text/markdown": [
       "-0.573365789337731"
      ],
      "text/plain": [
       "[1] -0.5733658"
      ]
     },
     "metadata": {},
     "output_type": "display_data"
    }
   ],
   "source": [
    "y <- rnorm(5)\n",
    "y\n",
    "x <- \"sd\"\n",
    "z <- switch(x,\"mean\"=mean(y),\"median\"=median(y),\"variance\"=var(y),\"sd\"=sd(y))\n",
    "z\n",
    "x <- \"median\"\n",
    "z <- switch(x,\"mean\"=mean(y),\"median\"=median(y),\"variance\"=var(y),\"sd\"=sd(y))\n",
    "z"
   ]
  },
  {
   "cell_type": "markdown",
   "metadata": {},
   "source": [
    "## 15.1.8 scan statement"
   ]
  },
  {
   "cell_type": "markdown",
   "metadata": {},
   "source": [
    "##### Not really much sense here..."
   ]
  },
  {
   "cell_type": "code",
   "execution_count": 26,
   "metadata": {
    "collapsed": true
   },
   "outputs": [],
   "source": [
    "help(scan)"
   ]
  },
  {
   "cell_type": "code",
   "execution_count": 31,
   "metadata": {},
   "outputs": [],
   "source": [
    "a <- scan(what=double(0))\n",
    "a <- scan(what=double(0),nmax=1,multi.line = FALSE)"
   ]
  },
  {
   "cell_type": "markdown",
   "metadata": {},
   "source": [
    "# 15.2 Functions"
   ]
  },
  {
   "cell_type": "code",
   "execution_count": 33,
   "metadata": {},
   "outputs": [],
   "source": [
    "newDef <- function(a,b)\n",
    "{\n",
    "    x = runif(10,a,b)\n",
    "    mean(x)\n",
    "}"
   ]
  },
  {
   "cell_type": "code",
   "execution_count": 34,
   "metadata": {},
   "outputs": [
    {
     "data": {
      "text/html": [
       "0.23008244545199"
      ],
      "text/latex": [
       "0.23008244545199"
      ],
      "text/markdown": [
       "0.23008244545199"
      ],
      "text/plain": [
       "[1] 0.2300824"
      ]
     },
     "metadata": {},
     "output_type": "display_data"
    }
   ],
   "source": [
    "newDef(-1,1)"
   ]
  },
  {
   "cell_type": "code",
   "execution_count": 35,
   "metadata": {},
   "outputs": [
    {
     "data": {
      "text/html": [
       "<pre class=language-r><code>function (a, b) \n",
       "{\n",
       "<span style=white-space:pre-wrap>    x = runif(10, a, b)</span>\n",
       "<span style=white-space:pre-wrap>    mean(x)</span>\n",
       "}</code></pre>"
      ],
      "text/latex": [
       "\\begin{minted}{r}\n",
       "function (a, b) \n",
       "\\{\n",
       "    x = runif(10, a, b)\n",
       "    mean(x)\n",
       "\\}\n",
       "\\end{minted}"
      ],
      "text/markdown": [
       "```r\n",
       "function (a, b) \n",
       "{\n",
       "    x = runif(10, a, b)\n",
       "    mean(x)\n",
       "}\n",
       "```"
      ],
      "text/plain": [
       "function(a,b)\n",
       "{\n",
       "    x = runif(10,a,b)\n",
       "    mean(x)\n",
       "}"
      ]
     },
     "metadata": {},
     "output_type": "display_data"
    }
   ],
   "source": [
    "newDef"
   ]
  },
  {
   "cell_type": "code",
   "execution_count": 36,
   "metadata": {},
   "outputs": [
    {
     "data": {
      "text/html": [
       "0.369886028114706"
      ],
      "text/latex": [
       "0.369886028114706"
      ],
      "text/markdown": [
       "0.369886028114706"
      ],
      "text/plain": [
       "[1] 0.369886"
      ]
     },
     "metadata": {},
     "output_type": "display_data"
    }
   ],
   "source": [
    "x <- newDef(0,1)\n",
    "x"
   ]
  },
  {
   "cell_type": "code",
   "execution_count": 37,
   "metadata": {},
   "outputs": [
    {
     "data": {
      "text/html": [
       "4.74678944051266"
      ],
      "text/latex": [
       "4.74678944051266"
      ],
      "text/markdown": [
       "4.74678944051266"
      ],
      "text/plain": [
       "[1] 4.746789"
      ]
     },
     "metadata": {},
     "output_type": "display_data"
    },
    {
     "name": "stderr",
     "output_type": "stream",
     "text": [
      "Warning message in runif(10, a, b):\n",
      "\"NAs produced\""
     ]
    },
    {
     "data": {
      "text/html": [
       "NaN"
      ],
      "text/latex": [
       "NaN"
      ],
      "text/markdown": [
       "NaN"
      ],
      "text/plain": [
       "[1] NaN"
      ]
     },
     "metadata": {},
     "output_type": "display_data"
    }
   ],
   "source": [
    "newDef(b=10,a=1)\n",
    "newDef(10,1)"
   ]
  },
  {
   "cell_type": "code",
   "execution_count": 38,
   "metadata": {
    "collapsed": true
   },
   "outputs": [],
   "source": [
    "c = c(1,2,3,4,5)\n",
    "sample <- function(a,b)\n",
    "{\n",
    "  value = switch(a,\"median\"=median(b),\"mean\"=mean(b),\"variance\"=var(b))\n",
    "  largeVals = length(c[c>1])\n",
    "  list(stat=value,number=largeVals)\n",
    "}"
   ]
  },
  {
   "cell_type": "code",
   "execution_count": 39,
   "metadata": {},
   "outputs": [
    {
     "data": {
      "text/html": [
       "<dl>\n",
       "\t<dt>$stat</dt>\n",
       "\t\t<dd>3</dd>\n",
       "\t<dt>$number</dt>\n",
       "\t\t<dd>4</dd>\n",
       "</dl>\n"
      ],
      "text/latex": [
       "\\begin{description}\n",
       "\\item[\\$stat] 3\n",
       "\\item[\\$number] 4\n",
       "\\end{description}\n"
      ],
      "text/markdown": [
       "$stat\n",
       ":   3\n",
       "$number\n",
       ":   4\n",
       "\n",
       "\n"
      ],
      "text/plain": [
       "$stat\n",
       "[1] 3\n",
       "\n",
       "$number\n",
       "[1] 4\n"
      ]
     },
     "metadata": {},
     "output_type": "display_data"
    }
   ],
   "source": [
    "result <- sample(\"median\",c)\n",
    "result"
   ]
  }
 ],
 "metadata": {
  "kernelspec": {
   "display_name": "R",
   "language": "R",
   "name": "ir"
  },
  "language_info": {
   "codemirror_mode": "r",
   "file_extension": ".r",
   "mimetype": "text/x-r-source",
   "name": "R",
   "pygments_lexer": "r",
   "version": "3.4.2"
  }
 },
 "nbformat": 4,
 "nbformat_minor": 2
}
